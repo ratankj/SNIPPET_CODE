{
 "cells": [
  {
   "cell_type": "code",
   "execution_count": 1,
   "metadata": {},
   "outputs": [],
   "source": [
    "import pandas as pd"
   ]
  },
  {
   "cell_type": "code",
   "execution_count": 6,
   "metadata": {},
   "outputs": [
    {
     "data": {
      "text/html": [
       "<div>\n",
       "<style scoped>\n",
       "    .dataframe tbody tr th:only-of-type {\n",
       "        vertical-align: middle;\n",
       "    }\n",
       "\n",
       "    .dataframe tbody tr th {\n",
       "        vertical-align: top;\n",
       "    }\n",
       "\n",
       "    .dataframe thead th {\n",
       "        text-align: right;\n",
       "    }\n",
       "</style>\n",
       "<table border=\"1\" class=\"dataframe\">\n",
       "  <thead>\n",
       "    <tr style=\"text-align: right;\">\n",
       "      <th></th>\n",
       "      <th>id</th>\n",
       "      <th>status</th>\n",
       "      <th>date</th>\n",
       "    </tr>\n",
       "  </thead>\n",
       "  <tbody>\n",
       "    <tr>\n",
       "      <th>0</th>\n",
       "      <td>1</td>\n",
       "      <td>Pending</td>\n",
       "      <td>2024-01-01</td>\n",
       "    </tr>\n",
       "    <tr>\n",
       "      <th>1</th>\n",
       "      <td>1</td>\n",
       "      <td>Processing</td>\n",
       "      <td>2024-01-04</td>\n",
       "    </tr>\n",
       "    <tr>\n",
       "      <th>2</th>\n",
       "      <td>1</td>\n",
       "      <td>Pending</td>\n",
       "      <td>2024-01-10</td>\n",
       "    </tr>\n",
       "    <tr>\n",
       "      <th>3</th>\n",
       "      <td>1</td>\n",
       "      <td>Completed</td>\n",
       "      <td>2024-01-14</td>\n",
       "    </tr>\n",
       "    <tr>\n",
       "      <th>4</th>\n",
       "      <td>2</td>\n",
       "      <td>Pending</td>\n",
       "      <td>2024-01-20</td>\n",
       "    </tr>\n",
       "    <tr>\n",
       "      <th>5</th>\n",
       "      <td>2</td>\n",
       "      <td>Completed</td>\n",
       "      <td>2024-01-25</td>\n",
       "    </tr>\n",
       "    <tr>\n",
       "      <th>6</th>\n",
       "      <td>3</td>\n",
       "      <td>Pending</td>\n",
       "      <td>2024-01-30</td>\n",
       "    </tr>\n",
       "  </tbody>\n",
       "</table>\n",
       "</div>"
      ],
      "text/plain": [
       "   id      status       date\n",
       "0   1     Pending 2024-01-01\n",
       "1   1  Processing 2024-01-04\n",
       "2   1     Pending 2024-01-10\n",
       "3   1   Completed 2024-01-14\n",
       "4   2     Pending 2024-01-20\n",
       "5   2   Completed 2024-01-25\n",
       "6   3     Pending 2024-01-30"
      ]
     },
     "execution_count": 6,
     "metadata": {},
     "output_type": "execute_result"
    }
   ],
   "source": [
    "# Sample data (replace with your actual data)\n",
    "data = {'id': [1, 1, 1, 1, 2, 2, 3],\n",
    "        'status': ['Pending', 'Processing', 'Pending',  'Completed', 'Pending', 'Completed', 'Pending'],\n",
    "        'date': pd.to_datetime(['2024-01-01', '2024-01-04', '2024-01-10', '2024-01-14', '2024-01-20', '2024-01-25', '2024-01-30'])}\n",
    "\n",
    "df = pd.DataFrame(data)\n"
   ]
  },
  {
   "cell_type": "code",
   "execution_count": 26,
   "metadata": {},
   "outputs": [
    {
     "name": "stdout",
     "output_type": "stream",
     "text": [
      "    id      status       date lead_status  lead_date  aging\n",
      "0    1     Pending 2024-01-01     Pending 2024-01-03      2\n",
      "1    1     Pending 2024-01-03  Processing 2024-01-04      1\n",
      "2    1  Processing 2024-01-04  Processing 2024-01-06      2\n",
      "3    1  Processing 2024-01-06  Processing 2024-01-09      3\n",
      "4    1  Processing 2024-01-09     Pending 2024-01-12      3\n",
      "5    1     Pending 2024-01-12   Completed 2024-01-14      2\n",
      "6    1   Completed 2024-01-14   Completed 2024-01-18      4\n",
      "7    1   Completed 2024-01-18   Completed 2024-01-18      1\n",
      "8    2     Pending 2024-01-20   Completed 2024-01-25      5\n",
      "9    2   Completed 2024-01-25   Completed 2024-01-25      1\n",
      "10   3     Pending 2024-01-30     Pending 2024-01-30      1\n"
     ]
    },
    {
     "name": "stderr",
     "output_type": "stream",
     "text": [
      "C:\\Users\\Ratan Kumar Jha\\AppData\\Local\\Temp\\ipykernel_7652\\3017698836.py:15: FutureWarning: A value is trying to be set on a copy of a DataFrame or Series through chained assignment using an inplace method.\n",
      "The behavior will change in pandas 3.0. This inplace method will never work because the intermediate object on which we are setting values always behaves as a copy.\n",
      "\n",
      "For example, when doing 'df[col].method(value, inplace=True)', try using 'df.method({col: value}, inplace=True)' or df[col] = df[col].method(value) instead, to perform the operation inplace on the original object.\n",
      "\n",
      "\n",
      "  df['lead_status'].fillna(df['status'], inplace=True)\n",
      "C:\\Users\\Ratan Kumar Jha\\AppData\\Local\\Temp\\ipykernel_7652\\3017698836.py:16: FutureWarning: A value is trying to be set on a copy of a DataFrame or Series through chained assignment using an inplace method.\n",
      "The behavior will change in pandas 3.0. This inplace method will never work because the intermediate object on which we are setting values always behaves as a copy.\n",
      "\n",
      "For example, when doing 'df[col].method(value, inplace=True)', try using 'df.method({col: value}, inplace=True)' or df[col] = df[col].method(value) instead, to perform the operation inplace on the original object.\n",
      "\n",
      "\n",
      "  df['lead_date'].fillna(df['date'], inplace=True)\n"
     ]
    }
   ],
   "source": [
    "import pandas as pd\n",
    "\n",
    "# Sample data\n",
    "data = {'id': [1, 1, 1, 1, 1, 1, 1, 1, 2, 2, 3],\n",
    "        'status': ['Pending', 'Pending', 'Processing', 'Processing', 'Processing', 'Pending',  'Completed', 'Completed', 'Pending', 'Completed', 'Pending'],\n",
    "        'date': pd.to_datetime(['2024-01-01', '2024-01-03', '2024-01-04', '2024-01-06', '2024-01-09', '2024-01-12', '2024-01-14', '2024-01-18', '2024-01-20', '2024-01-25', '2024-01-30'])}\n",
    "\n",
    "df = pd.DataFrame(data)\n",
    "\n",
    "# Add lead status and lead date columns\n",
    "df['lead_status'] = df.groupby('id')['status'].shift(-1)\n",
    "df['lead_date'] = df.groupby('id')['date'].shift(-1)\n",
    "\n",
    "# Fill NaN values in lead_status and lead_date with current status and date\n",
    "df['lead_status'].fillna(df['status'], inplace=True)\n",
    "df['lead_date'].fillna(df['date'], inplace=True)\n",
    "\n",
    "# Calculate aging of status\n",
    "df['aging'] = (df['lead_date'] - df['date']).dt.days.fillna(1)\n",
    "df['aging'] = df['aging'].where(df['aging'] > 0, 1)\n",
    "\n",
    "# Calculate cumulative sum of aging based on status and id\n",
    "# df['cumulative_aging'] = df.groupby(['id', 'status'])['aging'].cumsum()\n",
    "\n",
    "# Select only those records where status is different from lead_status based on id\n",
    "# last_records_df = df[df['status'] != df['lead_status']].reset_index(drop=True)\n",
    "\n",
    "print(df)\n"
   ]
  }
 ],
 "metadata": {
  "kernelspec": {
   "display_name": "Python 3",
   "language": "python",
   "name": "python3"
  },
  "language_info": {
   "codemirror_mode": {
    "name": "ipython",
    "version": 3
   },
   "file_extension": ".py",
   "mimetype": "text/x-python",
   "name": "python",
   "nbconvert_exporter": "python",
   "pygments_lexer": "ipython3",
   "version": "3.9.0"
  }
 },
 "nbformat": 4,
 "nbformat_minor": 2
}
