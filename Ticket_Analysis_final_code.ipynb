{
 "cells": [
  {
   "cell_type": "code",
   "execution_count": null,
   "metadata": {},
   "outputs": [],
   "source": [
    "import pandas as pd\n",
    "import numpy as np"
   ]
  },
  {
   "cell_type": "code",
   "execution_count": null,
   "metadata": {},
   "outputs": [],
   "source": [
    "# new data problem\n",
    "import pandas as pd\n",
    "\n",
    "ticket_df = pd.read_csv(r\"C:\\Users\\Ratan Kumar Jha\\Desktop\\IT VENDOR DATA\\graphana.csv\")\n"
   ]
  },
  {
   "cell_type": "code",
   "execution_count": null,
   "metadata": {},
   "outputs": [],
   "source": [
    "ticket_df['Date / Time'] = pd.to_datetime(ticket_df['Date / Time'])\n",
    "ticket_df['Due Date'] = pd.to_datetime(ticket_df['Due Date'])\n",
    "ticket_df['Resolve Date'] = pd.to_datetime(ticket_df['Resolve Date'])\n",
    "ticket_df['Call Type'] = ticket_df['Call Type'].fillna('Complaints Related to AMI')\n",
    "ticket_df['Issue Type']=ticket_df['Issue Type'].fillna('Any other issue - Smart Meter')\n",
    "ticket_df['Status']=ticket_df['Status'].replace(['Closed'], 'Resolved')\n",
    "ticket_df.to_csv(r\"C:\\Users\\Ratan Kumar Jha\\Desktop\\IT VENDOR DATA\\tiket_data_analysis_new.csv\",index=False)"
   ]
  },
  {
   "cell_type": "code",
   "execution_count": null,
   "metadata": {},
   "outputs": [],
   "source": []
  },
  {
   "cell_type": "markdown",
   "metadata": {},
   "source": [
    "# data transformation for weekly analysis"
   ]
  },
  {
   "cell_type": "code",
   "execution_count": null,
   "metadata": {},
   "outputs": [],
   "source": [
    "ticket_df['Department'].unique()"
   ]
  },
  {
   "cell_type": "code",
   "execution_count": null,
   "metadata": {},
   "outputs": [],
   "source": [
    "ticket_df.drop(ticket_df[ticket_df['Department'] == 'DISCOM'].index,inplace=True)\n",
    "ticket_df.drop(ticket_df[ticket_df['Department'] == 'EDF_L1'].index,inplace=True)\n",
    "ticket_df.drop(ticket_df[ticket_df['Department'] == 'Monitoring_L1'].index,inplace=True)\n",
    "ticket_df.drop(ticket_df[ticket_df['Department'] == 'Field_Operations'].index,inplace=True)\n",
    "ticket_df.to_csv(r\"C:\\Users\\Ratan Kumar Jha\\Desktop\\IT VENDOR DATA\\tiket_data_analysis_new_weekly_analysis.csv\",index=False)"
   ]
  },
  {
   "cell_type": "code",
   "execution_count": null,
   "metadata": {},
   "outputs": [],
   "source": []
  }
 ],
 "metadata": {
  "language_info": {
   "name": "python"
  }
 },
 "nbformat": 4,
 "nbformat_minor": 2
}
