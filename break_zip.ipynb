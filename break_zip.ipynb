{
 "cells": [
  {
   "cell_type": "code",
   "execution_count": 1,
   "metadata": {},
   "outputs": [],
   "source": [
    "import pandas as pd"
   ]
  },
  {
   "cell_type": "code",
   "execution_count": 2,
   "metadata": {},
   "outputs": [],
   "source": [
    "import os\n",
    "import zipfile\n",
    "\n",
    "def split_zip_file(file_path, output_dir, max_size):\n",
    "    if not os.path.exists(output_dir):\n",
    "        os.makedirs(output_dir)\n",
    "\n",
    "    with zipfile.ZipFile(file_path, 'r') as zip_ref:\n",
    "        file_list = zip_ref.infolist()\n",
    "        \n",
    "        part_number = 1\n",
    "        current_size = 0\n",
    "        zip_part = None\n",
    "\n",
    "        for file_info in file_list:\n",
    "            if zip_part is None or current_size + file_info.file_size > max_size:\n",
    "                if zip_part:\n",
    "                    zip_part.close()\n",
    "                zip_part = zipfile.ZipFile(os.path.join(output_dir, f'part_{part_number}.zip'), 'w')\n",
    "                part_number += 1\n",
    "                current_size = 0\n",
    "\n",
    "            with zip_ref.open(file_info) as source, zip_part.open(file_info.filename, 'w') as target:\n",
    "                while True:\n",
    "                    buffer = source.read(1024 * 1024)\n",
    "                    if not buffer:\n",
    "                        break\n",
    "                    target.write(buffer)\n",
    "                    current_size += len(buffer)\n",
    "\n",
    "        if zip_part:\n",
    "            zip_part.close()\n",
    "\n",
    "file_path = r'C:\\Users\\Ratan Kumar Jha\\Desktop\\BILLING_REQUEST_AND_REPLY\\ReplyJune2024.zip'\n",
    "output_dir = r'C:\\Users\\Ratan Kumar Jha\\Desktop\\BILLING_REQUEST_AND_REPLY\\output_reply_june_file'\n",
    "max_size = 100 * 1024 * 1024  # 100 MB\n",
    "\n",
    "split_zip_file(file_path, output_dir, max_size)\n"
   ]
  },
  {
   "cell_type": "code",
   "execution_count": null,
   "metadata": {},
   "outputs": [],
   "source": []
  },
  {
   "cell_type": "code",
   "execution_count": null,
   "metadata": {},
   "outputs": [],
   "source": []
  }
 ],
 "metadata": {
  "kernelspec": {
   "display_name": "Python 3",
   "language": "python",
   "name": "python3"
  },
  "language_info": {
   "codemirror_mode": {
    "name": "ipython",
    "version": 3
   },
   "file_extension": ".py",
   "mimetype": "text/x-python",
   "name": "python",
   "nbconvert_exporter": "python",
   "pygments_lexer": "ipython3",
   "version": "3.9.0"
  }
 },
 "nbformat": 4,
 "nbformat_minor": 2
}
