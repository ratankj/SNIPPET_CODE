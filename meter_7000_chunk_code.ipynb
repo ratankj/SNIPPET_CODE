{
 "cells": [
  {
   "cell_type": "code",
   "execution_count": 1,
   "metadata": {},
   "outputs": [],
   "source": [
    "import pandas as pd"
   ]
  },
  {
   "cell_type": "code",
   "execution_count": 2,
   "metadata": {},
   "outputs": [],
   "source": [
    "nb_file = pd.read_excel(r\"C:\\Users\\Ratan Kumar Jha\\Desktop\\7K_chunk_meter file_\\NBPDCl_file.xlsx\")\n",
    "sb_file = pd.read_excel(r\"C:\\Users\\Ratan Kumar Jha\\Desktop\\7K_chunk_meter file_\\SBPDCL_file.xlsx\")"
   ]
  },
  {
   "cell_type": "code",
   "execution_count": 3,
   "metadata": {},
   "outputs": [],
   "source": [
    "nb_file.to_csv(r\"C:\\Users\\Ratan Kumar Jha\\Desktop\\7K_chunk_meter file_\\\\csv file\\NB_DATA.csv\")\n",
    "sb_file.to_csv(r\"C:\\Users\\Ratan Kumar Jha\\Desktop\\7K_chunk_meter file_\\\\csv file\\SB_DATA.csv\")"
   ]
  },
  {
   "cell_type": "code",
   "execution_count": 4,
   "metadata": {},
   "outputs": [
    {
     "name": "stderr",
     "output_type": "stream",
     "text": [
      "C:\\Users\\Ratan Kumar Jha\\AppData\\Local\\Temp\\ipykernel_34520\\3907241096.py:2: DtypeWarning: Columns (12) have mixed types. Specify dtype option on import or set low_memory=False.\n",
      "  SB_DATA = pd.read_csv(r\"C:\\Users\\Ratan Kumar Jha\\Desktop\\7K_chunk_meter file_\\\\csv file\\SB_DATA.csv\")\n"
     ]
    }
   ],
   "source": [
    "NB_DATA = pd.read_csv(r\"C:\\Users\\Ratan Kumar Jha\\Desktop\\7K_chunk_meter file_\\\\csv file\\NB_DATA.csv\")\n",
    "SB_DATA = pd.read_csv(r\"C:\\Users\\Ratan Kumar Jha\\Desktop\\7K_chunk_meter file_\\\\csv file\\SB_DATA.csv\")"
   ]
  },
  {
   "cell_type": "code",
   "execution_count": 5,
   "metadata": {},
   "outputs": [
    {
     "data": {
      "text/html": [
       "<div>\n",
       "<style scoped>\n",
       "    .dataframe tbody tr th:only-of-type {\n",
       "        vertical-align: middle;\n",
       "    }\n",
       "\n",
       "    .dataframe tbody tr th {\n",
       "        vertical-align: top;\n",
       "    }\n",
       "\n",
       "    .dataframe thead th {\n",
       "        text-align: right;\n",
       "    }\n",
       "</style>\n",
       "<table border=\"1\" class=\"dataframe\">\n",
       "  <thead>\n",
       "    <tr style=\"text-align: right;\">\n",
       "      <th></th>\n",
       "      <th>Unnamed: 0</th>\n",
       "      <th>DeviceId</th>\n",
       "      <th>Type</th>\n",
       "      <th>EntryDatetime</th>\n",
       "      <th>DeviceType</th>\n",
       "      <th>InstallationDatetime</th>\n",
       "      <th>Utility</th>\n",
       "      <th>LastS05</th>\n",
       "      <th>DP Status</th>\n",
       "      <th>FWVersion</th>\n",
       "      <th>Cueent FW</th>\n",
       "      <th>Ip</th>\n",
       "      <th>StateName</th>\n",
       "    </tr>\n",
       "  </thead>\n",
       "  <tbody>\n",
       "    <tr>\n",
       "      <th>0</th>\n",
       "      <td>0</td>\n",
       "      <td>LNTLT1060773</td>\n",
       "      <td>LNT</td>\n",
       "      <td>12/24/2022 10:47:54 PM</td>\n",
       "      <td>EP2PMeter</td>\n",
       "      <td>1/28/2023 6:10:36 PM</td>\n",
       "      <td>NBPDCL</td>\n",
       "      <td>2024-05-07</td>\n",
       "      <td>NaN</td>\n",
       "      <td>RN13.00 00</td>\n",
       "      <td>By default</td>\n",
       "      <td>2405:0203:0531:8059:0000:0000:0000:0010</td>\n",
       "      <td>Imported&amp;&amp;Installed</td>\n",
       "    </tr>\n",
       "  </tbody>\n",
       "</table>\n",
       "</div>"
      ],
      "text/plain": [
       "   Unnamed: 0      DeviceId Type           EntryDatetime DeviceType  \\\n",
       "0           0  LNTLT1060773  LNT  12/24/2022 10:47:54 PM  EP2PMeter   \n",
       "\n",
       "   InstallationDatetime Utility     LastS05  DP Status   FWVersion  \\\n",
       "0  1/28/2023 6:10:36 PM  NBPDCL  2024-05-07        NaN  RN13.00 00   \n",
       "\n",
       "    Cueent FW                                       Ip            StateName  \n",
       "0  By default  2405:0203:0531:8059:0000:0000:0000:0010  Imported&&Installed  "
      ]
     },
     "execution_count": 5,
     "metadata": {},
     "output_type": "execute_result"
    }
   ],
   "source": [
    "#NB_DATA.head(2)\n",
    "NB_DATA.head(1)"
   ]
  },
  {
   "cell_type": "code",
   "execution_count": 6,
   "metadata": {},
   "outputs": [],
   "source": [
    "# insert only meter no\n",
    "\n",
    "NB_DATA_NEW = NB_DATA['DeviceId']\n",
    "SB_DATA_NEW = SB_DATA['DeviceId']"
   ]
  },
  {
   "cell_type": "code",
   "execution_count": 7,
   "metadata": {},
   "outputs": [],
   "source": [
    "NB_DATA_NEW.to_csv(r\"C:\\Users\\Ratan Kumar Jha\\Desktop\\7K_chunk_meter file_\\\\csv file\\NB_DATA_NEW.csv\")\n",
    "SB_DATA_NEW.to_csv(r\"C:\\Users\\Ratan Kumar Jha\\Desktop\\7K_chunk_meter file_\\\\csv file\\SB_DATA_NEW.csv\")"
   ]
  },
  {
   "cell_type": "code",
   "execution_count": 8,
   "metadata": {},
   "outputs": [
    {
     "data": {
      "text/plain": [
       "0    LNTLT1060773\n",
       "1    LNTLT1060772\n",
       "2    LNTLT1060771\n",
       "3    LNTLT1060770\n",
       "4    LNTLT1060767\n",
       "Name: DeviceId, dtype: object"
      ]
     },
     "execution_count": 8,
     "metadata": {},
     "output_type": "execute_result"
    }
   ],
   "source": [
    "NB_DATA_NEW.head()"
   ]
  },
  {
   "cell_type": "code",
   "execution_count": null,
   "metadata": {},
   "outputs": [],
   "source": []
  },
  {
   "cell_type": "markdown",
   "metadata": {},
   "source": [
    "### before running this code.  i manullay del. 1 column from a file"
   ]
  },
  {
   "cell_type": "code",
   "execution_count": 13,
   "metadata": {},
   "outputs": [
    {
     "name": "stdout",
     "output_type": "stream",
     "text": [
      "Chunk 1 saved to C:\\Users\\Ratan Kumar Jha\\Desktop\\7K_chunk_meter file_\\\\csv file\\nb file\\chunk_data_1.csv\n",
      "Chunk 2 saved to C:\\Users\\Ratan Kumar Jha\\Desktop\\7K_chunk_meter file_\\\\csv file\\nb file\\chunk_data_2.csv\n",
      "Chunk 3 saved to C:\\Users\\Ratan Kumar Jha\\Desktop\\7K_chunk_meter file_\\\\csv file\\nb file\\chunk_data_3.csv\n",
      "Chunk 4 saved to C:\\Users\\Ratan Kumar Jha\\Desktop\\7K_chunk_meter file_\\\\csv file\\nb file\\chunk_data_4.csv\n",
      "Chunk 5 saved to C:\\Users\\Ratan Kumar Jha\\Desktop\\7K_chunk_meter file_\\\\csv file\\nb file\\chunk_data_5.csv\n",
      "Chunk 6 saved to C:\\Users\\Ratan Kumar Jha\\Desktop\\7K_chunk_meter file_\\\\csv file\\nb file\\chunk_data_6.csv\n",
      "Chunk 7 saved to C:\\Users\\Ratan Kumar Jha\\Desktop\\7K_chunk_meter file_\\\\csv file\\nb file\\chunk_data_7.csv\n",
      "Chunk 8 saved to C:\\Users\\Ratan Kumar Jha\\Desktop\\7K_chunk_meter file_\\\\csv file\\nb file\\chunk_data_8.csv\n",
      "Chunk 9 saved to C:\\Users\\Ratan Kumar Jha\\Desktop\\7K_chunk_meter file_\\\\csv file\\nb file\\chunk_data_9.csv\n",
      "Chunk 10 saved to C:\\Users\\Ratan Kumar Jha\\Desktop\\7K_chunk_meter file_\\\\csv file\\nb file\\chunk_data_10.csv\n",
      "Chunk 11 saved to C:\\Users\\Ratan Kumar Jha\\Desktop\\7K_chunk_meter file_\\\\csv file\\nb file\\chunk_data_11.csv\n",
      "Chunk 12 saved to C:\\Users\\Ratan Kumar Jha\\Desktop\\7K_chunk_meter file_\\\\csv file\\nb file\\chunk_data_12.csv\n",
      "Chunk 13 saved to C:\\Users\\Ratan Kumar Jha\\Desktop\\7K_chunk_meter file_\\\\csv file\\nb file\\chunk_data_13.csv\n",
      "Chunk 14 saved to C:\\Users\\Ratan Kumar Jha\\Desktop\\7K_chunk_meter file_\\\\csv file\\nb file\\chunk_data_14.csv\n",
      "Chunk 15 saved to C:\\Users\\Ratan Kumar Jha\\Desktop\\7K_chunk_meter file_\\\\csv file\\nb file\\chunk_data_15.csv\n",
      "Chunk 16 saved to C:\\Users\\Ratan Kumar Jha\\Desktop\\7K_chunk_meter file_\\\\csv file\\nb file\\chunk_data_16.csv\n",
      "Chunk 17 saved to C:\\Users\\Ratan Kumar Jha\\Desktop\\7K_chunk_meter file_\\\\csv file\\nb file\\chunk_data_17.csv\n",
      "Chunk 18 saved to C:\\Users\\Ratan Kumar Jha\\Desktop\\7K_chunk_meter file_\\\\csv file\\nb file\\chunk_data_18.csv\n",
      "Chunk 19 saved to C:\\Users\\Ratan Kumar Jha\\Desktop\\7K_chunk_meter file_\\\\csv file\\nb file\\chunk_data_19.csv\n",
      "Chunk 20 saved to C:\\Users\\Ratan Kumar Jha\\Desktop\\7K_chunk_meter file_\\\\csv file\\nb file\\chunk_data_20.csv\n",
      "Chunk 21 saved to C:\\Users\\Ratan Kumar Jha\\Desktop\\7K_chunk_meter file_\\\\csv file\\nb file\\chunk_data_21.csv\n",
      "Chunk 22 saved to C:\\Users\\Ratan Kumar Jha\\Desktop\\7K_chunk_meter file_\\\\csv file\\nb file\\chunk_data_22.csv\n",
      "Chunk 23 saved to C:\\Users\\Ratan Kumar Jha\\Desktop\\7K_chunk_meter file_\\\\csv file\\nb file\\chunk_data_23.csv\n",
      "Chunk 24 saved to C:\\Users\\Ratan Kumar Jha\\Desktop\\7K_chunk_meter file_\\\\csv file\\nb file\\chunk_data_24.csv\n",
      "Chunk 25 saved to C:\\Users\\Ratan Kumar Jha\\Desktop\\7K_chunk_meter file_\\\\csv file\\nb file\\chunk_data_25.csv\n",
      "Chunk 26 saved to C:\\Users\\Ratan Kumar Jha\\Desktop\\7K_chunk_meter file_\\\\csv file\\nb file\\chunk_data_26.csv\n",
      "Chunk 27 saved to C:\\Users\\Ratan Kumar Jha\\Desktop\\7K_chunk_meter file_\\\\csv file\\nb file\\chunk_data_27.csv\n",
      "Chunk 28 saved to C:\\Users\\Ratan Kumar Jha\\Desktop\\7K_chunk_meter file_\\\\csv file\\nb file\\chunk_data_28.csv\n",
      "Chunk 29 saved to C:\\Users\\Ratan Kumar Jha\\Desktop\\7K_chunk_meter file_\\\\csv file\\nb file\\chunk_data_29.csv\n",
      "Chunk 30 saved to C:\\Users\\Ratan Kumar Jha\\Desktop\\7K_chunk_meter file_\\\\csv file\\nb file\\chunk_data_30.csv\n",
      "Chunk 31 saved to C:\\Users\\Ratan Kumar Jha\\Desktop\\7K_chunk_meter file_\\\\csv file\\nb file\\chunk_data_31.csv\n",
      "Chunk 32 saved to C:\\Users\\Ratan Kumar Jha\\Desktop\\7K_chunk_meter file_\\\\csv file\\nb file\\chunk_data_32.csv\n",
      "Chunk 33 saved to C:\\Users\\Ratan Kumar Jha\\Desktop\\7K_chunk_meter file_\\\\csv file\\nb file\\chunk_data_33.csv\n",
      "Chunk 34 saved to C:\\Users\\Ratan Kumar Jha\\Desktop\\7K_chunk_meter file_\\\\csv file\\nb file\\chunk_data_34.csv\n",
      "Chunk 35 saved to C:\\Users\\Ratan Kumar Jha\\Desktop\\7K_chunk_meter file_\\\\csv file\\nb file\\chunk_data_35.csv\n",
      "Chunk 36 saved to C:\\Users\\Ratan Kumar Jha\\Desktop\\7K_chunk_meter file_\\\\csv file\\nb file\\chunk_data_36.csv\n",
      "Chunk 37 saved to C:\\Users\\Ratan Kumar Jha\\Desktop\\7K_chunk_meter file_\\\\csv file\\nb file\\chunk_data_37.csv\n",
      "Chunk 38 saved to C:\\Users\\Ratan Kumar Jha\\Desktop\\7K_chunk_meter file_\\\\csv file\\nb file\\chunk_data_38.csv\n",
      "Chunk 39 saved to C:\\Users\\Ratan Kumar Jha\\Desktop\\7K_chunk_meter file_\\\\csv file\\nb file\\chunk_data_39.csv\n",
      "Chunk 40 saved to C:\\Users\\Ratan Kumar Jha\\Desktop\\7K_chunk_meter file_\\\\csv file\\nb file\\chunk_data_40.csv\n",
      "Chunk 41 saved to C:\\Users\\Ratan Kumar Jha\\Desktop\\7K_chunk_meter file_\\\\csv file\\nb file\\chunk_data_41.csv\n",
      "Chunk 42 saved to C:\\Users\\Ratan Kumar Jha\\Desktop\\7K_chunk_meter file_\\\\csv file\\nb file\\chunk_data_42.csv\n",
      "Chunk 43 saved to C:\\Users\\Ratan Kumar Jha\\Desktop\\7K_chunk_meter file_\\\\csv file\\nb file\\chunk_data_43.csv\n",
      "Chunk 44 saved to C:\\Users\\Ratan Kumar Jha\\Desktop\\7K_chunk_meter file_\\\\csv file\\nb file\\chunk_data_44.csv\n",
      "Chunk 45 saved to C:\\Users\\Ratan Kumar Jha\\Desktop\\7K_chunk_meter file_\\\\csv file\\nb file\\chunk_data_45.csv\n",
      "Chunk 46 saved to C:\\Users\\Ratan Kumar Jha\\Desktop\\7K_chunk_meter file_\\\\csv file\\nb file\\chunk_data_46.csv\n",
      "Chunk 47 saved to C:\\Users\\Ratan Kumar Jha\\Desktop\\7K_chunk_meter file_\\\\csv file\\nb file\\chunk_data_47.csv\n",
      "Chunk 48 saved to C:\\Users\\Ratan Kumar Jha\\Desktop\\7K_chunk_meter file_\\\\csv file\\nb file\\chunk_data_48.csv\n",
      "Chunk 49 saved to C:\\Users\\Ratan Kumar Jha\\Desktop\\7K_chunk_meter file_\\\\csv file\\nb file\\chunk_data_49.csv\n",
      "Chunk 50 saved to C:\\Users\\Ratan Kumar Jha\\Desktop\\7K_chunk_meter file_\\\\csv file\\nb file\\chunk_data_50.csv\n",
      "Chunk 51 saved to C:\\Users\\Ratan Kumar Jha\\Desktop\\7K_chunk_meter file_\\\\csv file\\nb file\\chunk_data_51.csv\n",
      "Chunk 52 saved to C:\\Users\\Ratan Kumar Jha\\Desktop\\7K_chunk_meter file_\\\\csv file\\nb file\\chunk_data_52.csv\n",
      "Chunk 53 saved to C:\\Users\\Ratan Kumar Jha\\Desktop\\7K_chunk_meter file_\\\\csv file\\nb file\\chunk_data_53.csv\n",
      "Chunk 54 saved to C:\\Users\\Ratan Kumar Jha\\Desktop\\7K_chunk_meter file_\\\\csv file\\nb file\\chunk_data_54.csv\n",
      "Chunk 55 saved to C:\\Users\\Ratan Kumar Jha\\Desktop\\7K_chunk_meter file_\\\\csv file\\nb file\\chunk_data_55.csv\n",
      "Chunk 56 saved to C:\\Users\\Ratan Kumar Jha\\Desktop\\7K_chunk_meter file_\\\\csv file\\nb file\\chunk_data_56.csv\n",
      "Chunk 57 saved to C:\\Users\\Ratan Kumar Jha\\Desktop\\7K_chunk_meter file_\\\\csv file\\nb file\\chunk_data_57.csv\n",
      "Chunk 58 saved to C:\\Users\\Ratan Kumar Jha\\Desktop\\7K_chunk_meter file_\\\\csv file\\nb file\\chunk_data_58.csv\n",
      "Chunk 59 saved to C:\\Users\\Ratan Kumar Jha\\Desktop\\7K_chunk_meter file_\\\\csv file\\nb file\\chunk_data_59.csv\n",
      "Chunk 60 saved to C:\\Users\\Ratan Kumar Jha\\Desktop\\7K_chunk_meter file_\\\\csv file\\nb file\\chunk_data_60.csv\n",
      "Chunk 61 saved to C:\\Users\\Ratan Kumar Jha\\Desktop\\7K_chunk_meter file_\\\\csv file\\nb file\\chunk_data_61.csv\n",
      "Chunk 62 saved to C:\\Users\\Ratan Kumar Jha\\Desktop\\7K_chunk_meter file_\\\\csv file\\nb file\\chunk_data_62.csv\n",
      "Chunk 63 saved to C:\\Users\\Ratan Kumar Jha\\Desktop\\7K_chunk_meter file_\\\\csv file\\nb file\\chunk_data_63.csv\n",
      "Chunk 64 saved to C:\\Users\\Ratan Kumar Jha\\Desktop\\7K_chunk_meter file_\\\\csv file\\nb file\\chunk_data_64.csv\n",
      "Chunk 65 saved to C:\\Users\\Ratan Kumar Jha\\Desktop\\7K_chunk_meter file_\\\\csv file\\nb file\\chunk_data_65.csv\n",
      "Chunk 66 saved to C:\\Users\\Ratan Kumar Jha\\Desktop\\7K_chunk_meter file_\\\\csv file\\nb file\\chunk_data_66.csv\n",
      "Chunk 67 saved to C:\\Users\\Ratan Kumar Jha\\Desktop\\7K_chunk_meter file_\\\\csv file\\nb file\\chunk_data_67.csv\n",
      "Chunk 68 saved to C:\\Users\\Ratan Kumar Jha\\Desktop\\7K_chunk_meter file_\\\\csv file\\nb file\\chunk_data_68.csv\n",
      "Chunk 69 saved to C:\\Users\\Ratan Kumar Jha\\Desktop\\7K_chunk_meter file_\\\\csv file\\nb file\\chunk_data_69.csv\n",
      "Chunk 70 saved to C:\\Users\\Ratan Kumar Jha\\Desktop\\7K_chunk_meter file_\\\\csv file\\nb file\\chunk_data_70.csv\n"
     ]
    }
   ],
   "source": [
    "import os\n",
    "import pandas as pd\n",
    "\n",
    "def split_and_save(input_file, output_dir, output_prefix, chunk_size=7000):\n",
    "    # Read the original file\n",
    "    df = pd.read_csv(input_file)\n",
    "\n",
    "    # Split the data into chunks\n",
    "    chunks = [df[i:i+chunk_size] for i in range(0, df.shape[0], chunk_size)]\n",
    "\n",
    "    # Create the output directory if it doesn't exist\n",
    "    if not os.path.exists(output_dir):\n",
    "        os.makedirs(output_dir)\n",
    "\n",
    "    # Save each chunk to a separate CSV file\n",
    "    for i, chunk in enumerate(chunks):\n",
    "        output_file = os.path.join(output_dir, f\"{output_prefix}_{i+1}.csv\")\n",
    "        chunk.to_csv(output_file, index=False)\n",
    "        print(f\"Chunk {i+1} saved to {output_file}\")\n",
    "\n",
    "\n",
    "input_file = r\"C:\\Users\\Ratan Kumar Jha\\Desktop\\7K_chunk_meter file_\\\\csv file\\NB_DATA_NEW.csv\"\n",
    "output_dir = r\"C:\\Users\\Ratan Kumar Jha\\Desktop\\7K_chunk_meter file_\\\\csv file\\nb file\"\n",
    "output_prefix = \"chunk_data\"\n",
    "split_and_save(input_file, output_dir, output_prefix)\n"
   ]
  },
  {
   "cell_type": "code",
   "execution_count": null,
   "metadata": {},
   "outputs": [],
   "source": []
  },
  {
   "cell_type": "code",
   "execution_count": 10,
   "metadata": {},
   "outputs": [
    {
     "name": "stdout",
     "output_type": "stream",
     "text": [
      "Chunk 1 saved to C:\\Users\\Ratan Kumar Jha\\Desktop\\7K_chunk_meter file_\\\\csv file\\sb_file\\chunk_data_1.csv\n",
      "Chunk 2 saved to C:\\Users\\Ratan Kumar Jha\\Desktop\\7K_chunk_meter file_\\\\csv file\\sb_file\\chunk_data_2.csv\n",
      "Chunk 3 saved to C:\\Users\\Ratan Kumar Jha\\Desktop\\7K_chunk_meter file_\\\\csv file\\sb_file\\chunk_data_3.csv\n",
      "Chunk 4 saved to C:\\Users\\Ratan Kumar Jha\\Desktop\\7K_chunk_meter file_\\\\csv file\\sb_file\\chunk_data_4.csv\n",
      "Chunk 5 saved to C:\\Users\\Ratan Kumar Jha\\Desktop\\7K_chunk_meter file_\\\\csv file\\sb_file\\chunk_data_5.csv\n",
      "Chunk 6 saved to C:\\Users\\Ratan Kumar Jha\\Desktop\\7K_chunk_meter file_\\\\csv file\\sb_file\\chunk_data_6.csv\n",
      "Chunk 7 saved to C:\\Users\\Ratan Kumar Jha\\Desktop\\7K_chunk_meter file_\\\\csv file\\sb_file\\chunk_data_7.csv\n",
      "Chunk 8 saved to C:\\Users\\Ratan Kumar Jha\\Desktop\\7K_chunk_meter file_\\\\csv file\\sb_file\\chunk_data_8.csv\n",
      "Chunk 9 saved to C:\\Users\\Ratan Kumar Jha\\Desktop\\7K_chunk_meter file_\\\\csv file\\sb_file\\chunk_data_9.csv\n",
      "Chunk 10 saved to C:\\Users\\Ratan Kumar Jha\\Desktop\\7K_chunk_meter file_\\\\csv file\\sb_file\\chunk_data_10.csv\n",
      "Chunk 11 saved to C:\\Users\\Ratan Kumar Jha\\Desktop\\7K_chunk_meter file_\\\\csv file\\sb_file\\chunk_data_11.csv\n",
      "Chunk 12 saved to C:\\Users\\Ratan Kumar Jha\\Desktop\\7K_chunk_meter file_\\\\csv file\\sb_file\\chunk_data_12.csv\n",
      "Chunk 13 saved to C:\\Users\\Ratan Kumar Jha\\Desktop\\7K_chunk_meter file_\\\\csv file\\sb_file\\chunk_data_13.csv\n",
      "Chunk 14 saved to C:\\Users\\Ratan Kumar Jha\\Desktop\\7K_chunk_meter file_\\\\csv file\\sb_file\\chunk_data_14.csv\n",
      "Chunk 15 saved to C:\\Users\\Ratan Kumar Jha\\Desktop\\7K_chunk_meter file_\\\\csv file\\sb_file\\chunk_data_15.csv\n",
      "Chunk 16 saved to C:\\Users\\Ratan Kumar Jha\\Desktop\\7K_chunk_meter file_\\\\csv file\\sb_file\\chunk_data_16.csv\n",
      "Chunk 17 saved to C:\\Users\\Ratan Kumar Jha\\Desktop\\7K_chunk_meter file_\\\\csv file\\sb_file\\chunk_data_17.csv\n",
      "Chunk 18 saved to C:\\Users\\Ratan Kumar Jha\\Desktop\\7K_chunk_meter file_\\\\csv file\\sb_file\\chunk_data_18.csv\n",
      "Chunk 19 saved to C:\\Users\\Ratan Kumar Jha\\Desktop\\7K_chunk_meter file_\\\\csv file\\sb_file\\chunk_data_19.csv\n",
      "Chunk 20 saved to C:\\Users\\Ratan Kumar Jha\\Desktop\\7K_chunk_meter file_\\\\csv file\\sb_file\\chunk_data_20.csv\n",
      "Chunk 21 saved to C:\\Users\\Ratan Kumar Jha\\Desktop\\7K_chunk_meter file_\\\\csv file\\sb_file\\chunk_data_21.csv\n",
      "Chunk 22 saved to C:\\Users\\Ratan Kumar Jha\\Desktop\\7K_chunk_meter file_\\\\csv file\\sb_file\\chunk_data_22.csv\n",
      "Chunk 23 saved to C:\\Users\\Ratan Kumar Jha\\Desktop\\7K_chunk_meter file_\\\\csv file\\sb_file\\chunk_data_23.csv\n",
      "Chunk 24 saved to C:\\Users\\Ratan Kumar Jha\\Desktop\\7K_chunk_meter file_\\\\csv file\\sb_file\\chunk_data_24.csv\n",
      "Chunk 25 saved to C:\\Users\\Ratan Kumar Jha\\Desktop\\7K_chunk_meter file_\\\\csv file\\sb_file\\chunk_data_25.csv\n",
      "Chunk 26 saved to C:\\Users\\Ratan Kumar Jha\\Desktop\\7K_chunk_meter file_\\\\csv file\\sb_file\\chunk_data_26.csv\n",
      "Chunk 27 saved to C:\\Users\\Ratan Kumar Jha\\Desktop\\7K_chunk_meter file_\\\\csv file\\sb_file\\chunk_data_27.csv\n",
      "Chunk 28 saved to C:\\Users\\Ratan Kumar Jha\\Desktop\\7K_chunk_meter file_\\\\csv file\\sb_file\\chunk_data_28.csv\n",
      "Chunk 29 saved to C:\\Users\\Ratan Kumar Jha\\Desktop\\7K_chunk_meter file_\\\\csv file\\sb_file\\chunk_data_29.csv\n",
      "Chunk 30 saved to C:\\Users\\Ratan Kumar Jha\\Desktop\\7K_chunk_meter file_\\\\csv file\\sb_file\\chunk_data_30.csv\n",
      "Chunk 31 saved to C:\\Users\\Ratan Kumar Jha\\Desktop\\7K_chunk_meter file_\\\\csv file\\sb_file\\chunk_data_31.csv\n",
      "Chunk 32 saved to C:\\Users\\Ratan Kumar Jha\\Desktop\\7K_chunk_meter file_\\\\csv file\\sb_file\\chunk_data_32.csv\n",
      "Chunk 33 saved to C:\\Users\\Ratan Kumar Jha\\Desktop\\7K_chunk_meter file_\\\\csv file\\sb_file\\chunk_data_33.csv\n",
      "Chunk 34 saved to C:\\Users\\Ratan Kumar Jha\\Desktop\\7K_chunk_meter file_\\\\csv file\\sb_file\\chunk_data_34.csv\n",
      "Chunk 35 saved to C:\\Users\\Ratan Kumar Jha\\Desktop\\7K_chunk_meter file_\\\\csv file\\sb_file\\chunk_data_35.csv\n",
      "Chunk 36 saved to C:\\Users\\Ratan Kumar Jha\\Desktop\\7K_chunk_meter file_\\\\csv file\\sb_file\\chunk_data_36.csv\n",
      "Chunk 37 saved to C:\\Users\\Ratan Kumar Jha\\Desktop\\7K_chunk_meter file_\\\\csv file\\sb_file\\chunk_data_37.csv\n",
      "Chunk 38 saved to C:\\Users\\Ratan Kumar Jha\\Desktop\\7K_chunk_meter file_\\\\csv file\\sb_file\\chunk_data_38.csv\n",
      "Chunk 39 saved to C:\\Users\\Ratan Kumar Jha\\Desktop\\7K_chunk_meter file_\\\\csv file\\sb_file\\chunk_data_39.csv\n",
      "Chunk 40 saved to C:\\Users\\Ratan Kumar Jha\\Desktop\\7K_chunk_meter file_\\\\csv file\\sb_file\\chunk_data_40.csv\n",
      "Chunk 41 saved to C:\\Users\\Ratan Kumar Jha\\Desktop\\7K_chunk_meter file_\\\\csv file\\sb_file\\chunk_data_41.csv\n",
      "Chunk 42 saved to C:\\Users\\Ratan Kumar Jha\\Desktop\\7K_chunk_meter file_\\\\csv file\\sb_file\\chunk_data_42.csv\n",
      "Chunk 43 saved to C:\\Users\\Ratan Kumar Jha\\Desktop\\7K_chunk_meter file_\\\\csv file\\sb_file\\chunk_data_43.csv\n",
      "Chunk 44 saved to C:\\Users\\Ratan Kumar Jha\\Desktop\\7K_chunk_meter file_\\\\csv file\\sb_file\\chunk_data_44.csv\n",
      "Chunk 45 saved to C:\\Users\\Ratan Kumar Jha\\Desktop\\7K_chunk_meter file_\\\\csv file\\sb_file\\chunk_data_45.csv\n",
      "Chunk 46 saved to C:\\Users\\Ratan Kumar Jha\\Desktop\\7K_chunk_meter file_\\\\csv file\\sb_file\\chunk_data_46.csv\n",
      "Chunk 47 saved to C:\\Users\\Ratan Kumar Jha\\Desktop\\7K_chunk_meter file_\\\\csv file\\sb_file\\chunk_data_47.csv\n",
      "Chunk 48 saved to C:\\Users\\Ratan Kumar Jha\\Desktop\\7K_chunk_meter file_\\\\csv file\\sb_file\\chunk_data_48.csv\n",
      "Chunk 49 saved to C:\\Users\\Ratan Kumar Jha\\Desktop\\7K_chunk_meter file_\\\\csv file\\sb_file\\chunk_data_49.csv\n",
      "Chunk 50 saved to C:\\Users\\Ratan Kumar Jha\\Desktop\\7K_chunk_meter file_\\\\csv file\\sb_file\\chunk_data_50.csv\n",
      "Chunk 51 saved to C:\\Users\\Ratan Kumar Jha\\Desktop\\7K_chunk_meter file_\\\\csv file\\sb_file\\chunk_data_51.csv\n",
      "Chunk 52 saved to C:\\Users\\Ratan Kumar Jha\\Desktop\\7K_chunk_meter file_\\\\csv file\\sb_file\\chunk_data_52.csv\n",
      "Chunk 53 saved to C:\\Users\\Ratan Kumar Jha\\Desktop\\7K_chunk_meter file_\\\\csv file\\sb_file\\chunk_data_53.csv\n",
      "Chunk 54 saved to C:\\Users\\Ratan Kumar Jha\\Desktop\\7K_chunk_meter file_\\\\csv file\\sb_file\\chunk_data_54.csv\n",
      "Chunk 55 saved to C:\\Users\\Ratan Kumar Jha\\Desktop\\7K_chunk_meter file_\\\\csv file\\sb_file\\chunk_data_55.csv\n",
      "Chunk 56 saved to C:\\Users\\Ratan Kumar Jha\\Desktop\\7K_chunk_meter file_\\\\csv file\\sb_file\\chunk_data_56.csv\n",
      "Chunk 57 saved to C:\\Users\\Ratan Kumar Jha\\Desktop\\7K_chunk_meter file_\\\\csv file\\sb_file\\chunk_data_57.csv\n",
      "Chunk 58 saved to C:\\Users\\Ratan Kumar Jha\\Desktop\\7K_chunk_meter file_\\\\csv file\\sb_file\\chunk_data_58.csv\n",
      "Chunk 59 saved to C:\\Users\\Ratan Kumar Jha\\Desktop\\7K_chunk_meter file_\\\\csv file\\sb_file\\chunk_data_59.csv\n",
      "Chunk 60 saved to C:\\Users\\Ratan Kumar Jha\\Desktop\\7K_chunk_meter file_\\\\csv file\\sb_file\\chunk_data_60.csv\n",
      "Chunk 61 saved to C:\\Users\\Ratan Kumar Jha\\Desktop\\7K_chunk_meter file_\\\\csv file\\sb_file\\chunk_data_61.csv\n",
      "Chunk 62 saved to C:\\Users\\Ratan Kumar Jha\\Desktop\\7K_chunk_meter file_\\\\csv file\\sb_file\\chunk_data_62.csv\n",
      "Chunk 63 saved to C:\\Users\\Ratan Kumar Jha\\Desktop\\7K_chunk_meter file_\\\\csv file\\sb_file\\chunk_data_63.csv\n",
      "Chunk 64 saved to C:\\Users\\Ratan Kumar Jha\\Desktop\\7K_chunk_meter file_\\\\csv file\\sb_file\\chunk_data_64.csv\n",
      "Chunk 65 saved to C:\\Users\\Ratan Kumar Jha\\Desktop\\7K_chunk_meter file_\\\\csv file\\sb_file\\chunk_data_65.csv\n",
      "Chunk 66 saved to C:\\Users\\Ratan Kumar Jha\\Desktop\\7K_chunk_meter file_\\\\csv file\\sb_file\\chunk_data_66.csv\n",
      "Chunk 67 saved to C:\\Users\\Ratan Kumar Jha\\Desktop\\7K_chunk_meter file_\\\\csv file\\sb_file\\chunk_data_67.csv\n",
      "Chunk 68 saved to C:\\Users\\Ratan Kumar Jha\\Desktop\\7K_chunk_meter file_\\\\csv file\\sb_file\\chunk_data_68.csv\n",
      "Chunk 69 saved to C:\\Users\\Ratan Kumar Jha\\Desktop\\7K_chunk_meter file_\\\\csv file\\sb_file\\chunk_data_69.csv\n",
      "Chunk 70 saved to C:\\Users\\Ratan Kumar Jha\\Desktop\\7K_chunk_meter file_\\\\csv file\\sb_file\\chunk_data_70.csv\n",
      "Chunk 71 saved to C:\\Users\\Ratan Kumar Jha\\Desktop\\7K_chunk_meter file_\\\\csv file\\sb_file\\chunk_data_71.csv\n",
      "Chunk 72 saved to C:\\Users\\Ratan Kumar Jha\\Desktop\\7K_chunk_meter file_\\\\csv file\\sb_file\\chunk_data_72.csv\n",
      "Chunk 73 saved to C:\\Users\\Ratan Kumar Jha\\Desktop\\7K_chunk_meter file_\\\\csv file\\sb_file\\chunk_data_73.csv\n",
      "Chunk 74 saved to C:\\Users\\Ratan Kumar Jha\\Desktop\\7K_chunk_meter file_\\\\csv file\\sb_file\\chunk_data_74.csv\n",
      "Chunk 75 saved to C:\\Users\\Ratan Kumar Jha\\Desktop\\7K_chunk_meter file_\\\\csv file\\sb_file\\chunk_data_75.csv\n",
      "Chunk 76 saved to C:\\Users\\Ratan Kumar Jha\\Desktop\\7K_chunk_meter file_\\\\csv file\\sb_file\\chunk_data_76.csv\n",
      "Chunk 77 saved to C:\\Users\\Ratan Kumar Jha\\Desktop\\7K_chunk_meter file_\\\\csv file\\sb_file\\chunk_data_77.csv\n",
      "Chunk 78 saved to C:\\Users\\Ratan Kumar Jha\\Desktop\\7K_chunk_meter file_\\\\csv file\\sb_file\\chunk_data_78.csv\n",
      "Chunk 79 saved to C:\\Users\\Ratan Kumar Jha\\Desktop\\7K_chunk_meter file_\\\\csv file\\sb_file\\chunk_data_79.csv\n",
      "Chunk 80 saved to C:\\Users\\Ratan Kumar Jha\\Desktop\\7K_chunk_meter file_\\\\csv file\\sb_file\\chunk_data_80.csv\n",
      "Chunk 81 saved to C:\\Users\\Ratan Kumar Jha\\Desktop\\7K_chunk_meter file_\\\\csv file\\sb_file\\chunk_data_81.csv\n",
      "Chunk 82 saved to C:\\Users\\Ratan Kumar Jha\\Desktop\\7K_chunk_meter file_\\\\csv file\\sb_file\\chunk_data_82.csv\n",
      "Chunk 83 saved to C:\\Users\\Ratan Kumar Jha\\Desktop\\7K_chunk_meter file_\\\\csv file\\sb_file\\chunk_data_83.csv\n",
      "Chunk 84 saved to C:\\Users\\Ratan Kumar Jha\\Desktop\\7K_chunk_meter file_\\\\csv file\\sb_file\\chunk_data_84.csv\n",
      "Chunk 85 saved to C:\\Users\\Ratan Kumar Jha\\Desktop\\7K_chunk_meter file_\\\\csv file\\sb_file\\chunk_data_85.csv\n"
     ]
    }
   ],
   "source": [
    "import os\n",
    "import pandas as pd\n",
    "\n",
    "def split_and_save(input_file, output_dir, output_prefix, chunk_size=7000):\n",
    "    # Read the original file\n",
    "    df = pd.read_csv(input_file)\n",
    "\n",
    "    # Split the data into chunks\n",
    "    chunks = [df[i:i+chunk_size] for i in range(0, df.shape[0], chunk_size)]\n",
    "\n",
    "    # Create the output directory if it doesn't exist\n",
    "    if not os.path.exists(output_dir):\n",
    "        os.makedirs(output_dir)\n",
    "\n",
    "    # Save each chunk to a separate CSV file\n",
    "    for i, chunk in enumerate(chunks):\n",
    "        output_file = os.path.join(output_dir, f\"{output_prefix}_{i+1}.csv\")\n",
    "        chunk.to_csv(output_file, index=False)\n",
    "        print(f\"Chunk {i+1} saved to {output_file}\")\n",
    "\n",
    "\n",
    "input_file = r\"C:\\Users\\Ratan Kumar Jha\\Desktop\\7K_chunk_meter file_\\\\csv file\\SB_DATA_NEW.csv\"\n",
    "output_dir = r\"C:\\Users\\Ratan Kumar Jha\\Desktop\\7K_chunk_meter file_\\\\csv file\\sb_file\"\n",
    "output_prefix = \"chunk_data\"\n",
    "split_and_save(input_file, output_dir, output_prefix)\n"
   ]
  },
  {
   "cell_type": "code",
   "execution_count": null,
   "metadata": {},
   "outputs": [],
   "source": []
  }
 ],
 "metadata": {
  "kernelspec": {
   "display_name": "Python 3",
   "language": "python",
   "name": "python3"
  },
  "language_info": {
   "codemirror_mode": {
    "name": "ipython",
    "version": 3
   },
   "file_extension": ".py",
   "mimetype": "text/x-python",
   "name": "python",
   "nbconvert_exporter": "python",
   "pygments_lexer": "ipython3",
   "version": "3.9.0"
  }
 },
 "nbformat": 4,
 "nbformat_minor": 2
}
