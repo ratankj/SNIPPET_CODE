{
 "cells": [
  {
   "cell_type": "code",
   "execution_count": 1,
   "metadata": {},
   "outputs": [],
   "source": [
    "import pandas as pd"
   ]
  },
  {
   "cell_type": "code",
   "execution_count": 3,
   "metadata": {},
   "outputs": [
    {
     "name": "stdout",
     "output_type": "stream",
     "text": [
      "1\n",
      "2\n",
      "3\n",
      "4\n",
      "5\n",
      "factorial is 120\n"
     ]
    }
   ],
   "source": [
    "#  factorial\n",
    "\n",
    "fact = 5\n",
    "a=1\n",
    "for i in range(1,fact+1):\n",
    "    a = a*i\n",
    "    print(i)\n",
    "print(f\"factorial is {a}\")"
   ]
  },
  {
   "cell_type": "code",
   "execution_count": 6,
   "metadata": {},
   "outputs": [
    {
     "name": "stdout",
     "output_type": "stream",
     "text": [
      "a\n",
      "a\n",
      "2\n"
     ]
    }
   ],
   "source": [
    "# count the vowel\n",
    "\n",
    "word = input(\"Enter and word to check count of vowel\")\n",
    "vowel = ['a','e','i','o','u']\n",
    "sum = 0\n",
    "for i in word:\n",
    "    if i in vowel:\n",
    "        print(i)\n",
    "        sum = sum + 1\n",
    "\n",
    "\n",
    "print(sum)"
   ]
  },
  {
   "cell_type": "code",
   "execution_count": 9,
   "metadata": {},
   "outputs": [
    {
     "name": "stdout",
     "output_type": "stream",
     "text": [
      " a is equal  to a and the count is equal to 1\n",
      " a is equal  to a and the count is equal to 2\n",
      " a is equal  to a and the count is equal to 3\n",
      " a is equal  to a and the count is equal to 4\n",
      "4\n"
     ]
    }
   ],
   "source": [
    "# occurance of any character\n",
    "\n",
    "word = input(\"Enter and word to check count of vowel : \")\n",
    "letter = input(\"Enter a letter for search the occurance count : \")\n",
    "sum = 0\n",
    "for i in word:\n",
    "    if i == letter:\n",
    "        sum += 1\n",
    "        print(f\" {i} is equal  to {letter} and the count is equal to {sum}\")\n",
    "\n",
    "print(sum)\n"
   ]
  },
  {
   "cell_type": "code",
   "execution_count": 20,
   "metadata": {},
   "outputs": [
    {
     "name": "stdout",
     "output_type": "stream",
     "text": [
      "0,1,1 2 "
     ]
    }
   ],
   "source": [
    "# Fibonacci series\n",
    "\n",
    "#8\n",
    "#0 ,1,1,2,3,5,8,13,21\n",
    "\n",
    "\n",
    "USER_INPUT =  int(input(\" ENTER THE NO. FOR WHICH COUNT U WANT A FIBONACCI SERIES : \"))\n",
    "first_c = 0\n",
    "second_c =1\n",
    "print(first_c,end = ',')\n",
    "print(second_c,end = ',')\n",
    "for i in range(3,USER_INPUT+1):\n",
    "    next_c =  first_c + second_c\n",
    "    first_c = second_c\n",
    "    second_c = next_c\n",
    "    print(next_c,end=',')\n",
    "\n",
    "\n"
   ]
  },
  {
   "cell_type": "code",
   "execution_count": 21,
   "metadata": {},
   "outputs": [
    {
     "name": "stdout",
     "output_type": "stream",
     "text": [
      "PYTHON\n",
      "<class 'str'>\n"
     ]
    }
   ],
   "source": [
    "lst = [\"P\", \"Y\", \"T\", \"H\", \"O\", \"N\"]\n",
    "string = ''.join(lst)\n",
    "\n",
    "print(string)\n",
    "#print(type(string))\n"
   ]
  },
  {
   "cell_type": "code",
   "execution_count": 25,
   "metadata": {},
   "outputs": [
    {
     "ename": "NameError",
     "evalue": "name 'count' is not defined",
     "output_type": "error",
     "traceback": [
      "\u001b[1;31m---------------------------------------------------------------------------\u001b[0m",
      "\u001b[1;31mNameError\u001b[0m                                 Traceback (most recent call last)",
      "Cell \u001b[1;32mIn[25], line 2\u001b[0m\n\u001b[0;32m      1\u001b[0m lst1 \u001b[38;5;241m=\u001b[39m [\u001b[38;5;241m1\u001b[39m, \u001b[38;5;241m2\u001b[39m, \u001b[38;5;241m3\u001b[39m]\n\u001b[1;32m----> 2\u001b[0m \u001b[43mcount\u001b[49m(lst)\n",
      "\u001b[1;31mNameError\u001b[0m: name 'count' is not defined"
     ]
    }
   ],
   "source": [
    "lst1 = [1, 2, 3]\n"
   ]
  },
  {
   "cell_type": "code",
   "execution_count": 31,
   "metadata": {},
   "outputs": [
    {
     "name": "stdout",
     "output_type": "stream",
     "text": [
      "[5, 7, 9]\n"
     ]
    }
   ],
   "source": [
    "#  summing 2 list\n",
    "lst1 = [1, 2, 3]\n",
    "lst2 = [4, 5, 6] \n",
    "result = []\n",
    "for i in range(0,len(lst1)):\n",
    "    result.append(lst1[i]+lst2[i])\n",
    "print(result)\n",
    "\n",
    "\n",
    "\n"
   ]
  },
  {
   "cell_type": "code",
   "execution_count": 32,
   "metadata": {},
   "outputs": [
    {
     "name": "stdout",
     "output_type": "stream",
     "text": [
      "1\n",
      "8\n",
      "2\n"
     ]
    }
   ],
   "source": [
    "# counting digits, letter and spaces in a string\n",
    "\n",
    "\n",
    "# Importing Regular Expressions Library\n",
    "import re\n",
    "\n",
    "name = 'Python is 1'\n",
    "\n",
    "digitCount = re.sub(\"[^0-9]\", \"\", name)\n",
    "letterCount = re.sub(\"[^a-zA-Z]\", \"\", name)\n",
    "spaceCount = re.findall(\"[ \\n]\", name)\n",
    "\n",
    "print(len(digitCount))\n",
    "print(len(letterCount))\n",
    "print(len(spaceCount))\n",
    "    \n"
   ]
  },
  {
   "cell_type": "code",
   "execution_count": 33,
   "metadata": {},
   "outputs": [
    {
     "name": "stdout",
     "output_type": "stream",
     "text": [
      "Return type: <class 'enumerate'>\n",
      "[(0, 'eat'), (1, 'sleep'), (2, 'repeat')]\n",
      "[(2, 'g'), (3, 'e'), (4, 'e'), (5, 'k')]\n"
     ]
    }
   ],
   "source": [
    "\n",
    "\n",
    "l1 = [\"eat\", \"sleep\", \"repeat\"]\n",
    "s1 = \"geek\"\n",
    " \n",
    "# creating enumerate objects\n",
    "obj1 = enumerate(l1)\n",
    "obj2 = enumerate(s1)\n",
    " \n",
    "print (\"Return type:\", type(obj1))\n",
    "print (list(enumerate(l1)))\n",
    " \n",
    "# changing start index to 2 from 0\n",
    "print (list(enumerate(s1, 2)))"
   ]
  },
  {
   "cell_type": "code",
   "execution_count": 36,
   "metadata": {},
   "outputs": [
    {
     "name": "stdout",
     "output_type": "stream",
     "text": [
      "(0, 'eat')\n",
      "(1, 'sleep')\n",
      "(2, 'repeat')\n",
      "(3, 'Ratan')\n",
      "0 eat\n",
      "1 sleep\n",
      "2 repeat\n",
      "3 Ratan\n",
      "0\n",
      "eat\n",
      "1\n",
      "sleep\n",
      "2\n",
      "repeat\n",
      "3\n",
      "Ratan\n"
     ]
    }
   ],
   "source": [
    "l1 = [\"eat\", \"sleep\", \"repeat\",\"Ratan\"]\n",
    "\n",
    "# printing the tuples in object directly\n",
    "for ele in enumerate(l1):\n",
    "\tprint (ele)\n",
    "\n",
    "# changing index and printing separately\n",
    "for count, ele in enumerate(l1):\n",
    "\tprint (count, ele)\n",
    "\n",
    "# getting desired output from tuple\n",
    "for count, ele in enumerate(l1):\n",
    "\tprint(count)\n",
    "\tprint(ele)\n"
   ]
  },
  {
   "cell_type": "code",
   "execution_count": null,
   "metadata": {},
   "outputs": [],
   "source": []
  },
  {
   "cell_type": "code",
   "execution_count": 38,
   "metadata": {},
   "outputs": [
    {
     "name": "stdout",
     "output_type": "stream",
     "text": [
      "Welcome Msg Not Sent Data_01-03-24.xlsx\n",
      "Welcome Msg Not Sent Data_03-03-24.xlsx\n",
      "Welcome Msg Not Sent Data_04-03-24.xlsx\n",
      "Welcome Msg Not Sent Data_05-03-24.xlsx\n",
      "Welcome Msg Not Sent Data_06-03-24.xlsx\n",
      "Welcome Msg Not Sent Data_10-03-24.xlsx\n",
      "Welcome Msg Not Sent Data_11-03-24.xlsx\n",
      "Welcome Msg Not Sent Data_12-03-24.xlsx\n",
      "Welcome Msg Not Sent Data_13-03-24.xlsx\n",
      "Welcome Msg Not Sent Data_15-03-24.xlsx\n",
      "Welcome Msg Not Sent Data_17-03-24.xlsx\n",
      "Welcome Msg Not Sent Data_18-03-24.xlsx\n",
      "Welcome Msg Not Sent Data_19-03-24.xlsx\n",
      "Welcome Msg Not Sent Data_20-03-24.xlsx\n",
      "Welcome Msg Not Sent Data_21-03-24.xlsx\n",
      "Welcome Msg Not Sent Data_27-03-24.xlsx\n",
      "Welcome Msg Not Sent Data_28-03-24.xlsx\n",
      "Welcome Msg Not Sent Data_31-03-24.xlsx\n"
     ]
    }
   ],
   "source": [
    "# Read the data from a file\n",
    "\n",
    "import os\n",
    "import shutil\n",
    "\n",
    "# Set the path to the folder containing MSG files\n",
    "folder_path = r\"C:\\Users\\Ratan Kumar Jha\\Desktop\\welcome msg\\WELCOME DATA EXTRACTED\\March\"\n",
    "# -------------------------------------------------------------------------------------------------\n",
    "for filename in os.listdir(folder_path):\n",
    "    print(filename)"
   ]
  },
  {
   "cell_type": "code",
   "execution_count": 5,
   "metadata": {},
   "outputs": [
    {
     "name": "stdout",
     "output_type": "stream",
     "text": [
      "17\n"
     ]
    }
   ],
   "source": [
    "# reverse a word\n",
    "\n",
    "word =\"EDF INTERNATIONAL\"\n",
    "sum = 0\n",
    "for i in word:\n",
    "    sum=sum+1\n",
    "\n",
    "print(sum)"
   ]
  },
  {
   "cell_type": "code",
   "execution_count": 15,
   "metadata": {},
   "outputs": [
    {
     "name": "stdout",
     "output_type": "stream",
     "text": [
      "E \n",
      "DE \n",
      "FDE \n",
      " FDE \n",
      "I FDE \n",
      "NI FDE \n",
      "TNI FDE \n",
      "ETNI FDE \n",
      "RETNI FDE \n",
      "NRETNI FDE \n",
      "ANRETNI FDE \n",
      "TANRETNI FDE \n",
      "ITANRETNI FDE \n",
      "OITANRETNI FDE \n",
      "NOITANRETNI FDE \n",
      "ANOITANRETNI FDE \n",
      "LANOITANRETNI FDE \n"
     ]
    }
   ],
   "source": [
    "\n",
    "word = \"EDF INTERNATIONAL\"\n",
    "reverse = ' '\n",
    "for i in word:\n",
    "    reverse =i+ reverse \n",
    "    print(reverse)\n"
   ]
  },
  {
   "cell_type": "code",
   "execution_count": 27,
   "metadata": {},
   "outputs": [],
   "source": [
    "mylist = ['first','second','third']\n",
    "s = \"\"\n",
    "reverse = \"\"\n",
    "for item in mylist:\n",
    "    s=item + s\n",
    "  \n",
    "    for char in item : \n",
    "        reverse = char + reverse\n",
    " "
   ]
  },
  {
   "cell_type": "code",
   "execution_count": 28,
   "metadata": {},
   "outputs": [
    {
     "name": "stdout",
     "output_type": "stream",
     "text": [
      "17\n"
     ]
    }
   ],
   "source": [
    "# find the length of string\n",
    "\n",
    "text = \"EDF INTERNATIONAL\"\n",
    "count = 0\n",
    "for i in text:\n",
    "    count += 1\n",
    "print(count)"
   ]
  },
  {
   "cell_type": "code",
   "execution_count": null,
   "metadata": {},
   "outputs": [],
   "source": []
  },
  {
   "cell_type": "markdown",
   "metadata": {},
   "source": [
    "# DATA FRAME"
   ]
  },
  {
   "cell_type": "code",
   "execution_count": 29,
   "metadata": {},
   "outputs": [
    {
     "name": "stdout",
     "output_type": "stream",
     "text": [
      "          name continent     area  population           gdp\n",
      "0  Afghanistan      Asia   652230    25500100   20343000000\n",
      "1      Albania    Europe    28748     2831741   12960000000\n",
      "2      Algeria    Africa  2381741    37100000  188681000000\n",
      "3      Andorra    Europe      468       78115    3712000000\n",
      "4       Angola    Africa  1246700    20609294  100990000000\n"
     ]
    }
   ],
   "source": [
    "import pandas as pd\n",
    "\n",
    "# Creating the dataframe with the given information\n",
    "data = {\n",
    "    \"name\": [\"Afghanistan\", \"Albania\", \"Algeria\", \"Andorra\", \"Angola\"],\n",
    "    \"continent\": [\"Asia\", \"Europe\", \"Africa\", \"Europe\", \"Africa\"],\n",
    "    \"area\": [652230, 28748, 2381741, 468, 1246700],\n",
    "    \"population\": [25500100, 2831741, 37100000, 78115, 20609294],\n",
    "    \"gdp\": [20343000000, 12960000000, 188681000000, 3712000000, 100990000000]\n",
    "}\n",
    "\n",
    "World  = pd.DataFrame(data)\n",
    "\n",
    "# Displaying the dataframe\n",
    "print(World )\n"
   ]
  },
  {
   "cell_type": "markdown",
   "metadata": {},
   "source": [
    "A country is big if:\n",
    "\n",
    "it has an area of at least three million (i.e., 3000000 km2), or\n",
    "it has a population of at least twenty-five million (i.e., 25000000).\n",
    "Write a solution to find the name, population, and area of the big countries.\n",
    "\n",
    "Return the result table in any order."
   ]
  },
  {
   "cell_type": "code",
   "execution_count": 35,
   "metadata": {},
   "outputs": [
    {
     "data": {
      "text/html": [
       "<div>\n",
       "<style scoped>\n",
       "    .dataframe tbody tr th:only-of-type {\n",
       "        vertical-align: middle;\n",
       "    }\n",
       "\n",
       "    .dataframe tbody tr th {\n",
       "        vertical-align: top;\n",
       "    }\n",
       "\n",
       "    .dataframe thead th {\n",
       "        text-align: right;\n",
       "    }\n",
       "</style>\n",
       "<table border=\"1\" class=\"dataframe\">\n",
       "  <thead>\n",
       "    <tr style=\"text-align: right;\">\n",
       "      <th></th>\n",
       "      <th>name</th>\n",
       "      <th>population</th>\n",
       "      <th>area</th>\n",
       "    </tr>\n",
       "  </thead>\n",
       "  <tbody>\n",
       "    <tr>\n",
       "      <th>0</th>\n",
       "      <td>Afghanistan</td>\n",
       "      <td>25500100</td>\n",
       "      <td>652230</td>\n",
       "    </tr>\n",
       "    <tr>\n",
       "      <th>2</th>\n",
       "      <td>Algeria</td>\n",
       "      <td>37100000</td>\n",
       "      <td>2381741</td>\n",
       "    </tr>\n",
       "  </tbody>\n",
       "</table>\n",
       "</div>"
      ],
      "text/plain": [
       "          name  population     area\n",
       "0  Afghanistan    25500100   652230\n",
       "2      Algeria    37100000  2381741"
      ]
     },
     "execution_count": 35,
     "metadata": {},
     "output_type": "execute_result"
    }
   ],
   "source": [
    "World[(World['area'] >= 3000000) | (World['population'] >= 25000000) ][[\"name\",\"population\",\"area\"]]"
   ]
  },
  {
   "cell_type": "code",
   "execution_count": null,
   "metadata": {},
   "outputs": [],
   "source": []
  },
  {
   "cell_type": "markdown",
   "metadata": {},
   "source": [
    "# 2"
   ]
  },
  {
   "cell_type": "code",
   "execution_count": 36,
   "metadata": {},
   "outputs": [
    {
     "name": "stdout",
     "output_type": "stream",
     "text": [
      "   product_id low_fats recyclable\n",
      "0           0        Y          N\n",
      "1           1        Y          Y\n",
      "2           2        N          Y\n",
      "3           3        Y          Y\n",
      "4           4        N          N\n"
     ]
    }
   ],
   "source": [
    "import pandas as pd\n",
    "\n",
    "# Creating the dataframe with the given Products table information\n",
    "products_data = {\n",
    "    \"product_id\": [0, 1, 2, 3, 4],\n",
    "    \"low_fats\": [\"Y\", \"Y\", \"N\", \"Y\", \"N\"],\n",
    "    \"recyclable\": [\"N\", \"Y\", \"Y\", \"Y\", \"N\"]\n",
    "}\n",
    "\n",
    "products = pd.DataFrame(products_data)\n",
    "\n",
    "# Displaying the dataframe\n",
    "print(products)\n"
   ]
  },
  {
   "cell_type": "markdown",
   "metadata": {},
   "source": [
    "product_id is the primary key (column with unique values) for this table.\n",
    "low_fats is an ENUM (category) of type ('Y', 'N') where 'Y' means this product is low fat and 'N' means it is not.\n",
    "recyclable is an ENUM (category) of types ('Y', 'N') where 'Y' means this product is recyclable and 'N' means it is not.\n",
    "Write a solution to find the ids of products that are both low fat and recyclable."
   ]
  },
  {
   "cell_type": "code",
   "execution_count": null,
   "metadata": {},
   "outputs": [],
   "source": [
    "\n",
    " "
   ]
  },
  {
   "cell_type": "code",
   "execution_count": 38,
   "metadata": {},
   "outputs": [
    {
     "data": {
      "text/html": [
       "<div>\n",
       "<style scoped>\n",
       "    .dataframe tbody tr th:only-of-type {\n",
       "        vertical-align: middle;\n",
       "    }\n",
       "\n",
       "    .dataframe tbody tr th {\n",
       "        vertical-align: top;\n",
       "    }\n",
       "\n",
       "    .dataframe thead th {\n",
       "        text-align: right;\n",
       "    }\n",
       "</style>\n",
       "<table border=\"1\" class=\"dataframe\">\n",
       "  <thead>\n",
       "    <tr style=\"text-align: right;\">\n",
       "      <th></th>\n",
       "      <th>product_id</th>\n",
       "    </tr>\n",
       "  </thead>\n",
       "  <tbody>\n",
       "    <tr>\n",
       "      <th>1</th>\n",
       "      <td>1</td>\n",
       "    </tr>\n",
       "    <tr>\n",
       "      <th>3</th>\n",
       "      <td>3</td>\n",
       "    </tr>\n",
       "  </tbody>\n",
       "</table>\n",
       "</div>"
      ],
      "text/plain": [
       "   product_id\n",
       "1           1\n",
       "3           3"
      ]
     },
     "execution_count": 38,
     "metadata": {},
     "output_type": "execute_result"
    }
   ],
   "source": [
    "products[(products['low_fats']=='Y') & (products['recyclable']=='Y')][[\"product_id\"]]"
   ]
  },
  {
   "cell_type": "markdown",
   "metadata": {},
   "source": [
    "# 3"
   ]
  },
  {
   "cell_type": "code",
   "execution_count": 40,
   "metadata": {},
   "outputs": [
    {
     "name": "stdout",
     "output_type": "stream",
     "text": [
      "Customers DataFrame:\n",
      "   id   name\n",
      "0   1    Joe\n",
      "1   2  Henry\n",
      "2   3    Sam\n",
      "3   4    Max\n",
      "\n",
      "Orders DataFrame:\n",
      "   id  customerId\n",
      "0   1           3\n",
      "1   2           1\n"
     ]
    }
   ],
   "source": [
    "import pandas as pd\n",
    "\n",
    "# Creating the dataframe for the Customers table\n",
    "customers = {\n",
    "    \"id\": [1, 2, 3, 4],\n",
    "    \"name\": [\"Joe\", \"Henry\", \"Sam\", \"Max\"]\n",
    "}\n",
    "customers = pd.DataFrame(customers)\n",
    "\n",
    "# Creating the dataframe for the Orders table\n",
    "orders = {\n",
    "    \"id\": [1, 2],\n",
    "    \"customerId\": [3, 1]\n",
    "}\n",
    "orders = pd.DataFrame(orders)\n",
    "\n",
    "# Displaying the dataframes\n",
    "print(\"Customers DataFrame:\")\n",
    "print(customers)\n",
    "print(\"\\nOrders DataFrame:\")\n",
    "print(orders)\n"
   ]
  },
  {
   "cell_type": "code",
   "execution_count": 52,
   "metadata": {},
   "outputs": [
    {
     "data": {
      "text/html": [
       "<div>\n",
       "<style scoped>\n",
       "    .dataframe tbody tr th:only-of-type {\n",
       "        vertical-align: middle;\n",
       "    }\n",
       "\n",
       "    .dataframe tbody tr th {\n",
       "        vertical-align: top;\n",
       "    }\n",
       "\n",
       "    .dataframe thead th {\n",
       "        text-align: right;\n",
       "    }\n",
       "</style>\n",
       "<table border=\"1\" class=\"dataframe\">\n",
       "  <thead>\n",
       "    <tr style=\"text-align: right;\">\n",
       "      <th></th>\n",
       "      <th>Customers</th>\n",
       "    </tr>\n",
       "  </thead>\n",
       "  <tbody>\n",
       "    <tr>\n",
       "      <th>1</th>\n",
       "      <td>Henry</td>\n",
       "    </tr>\n",
       "    <tr>\n",
       "      <th>3</th>\n",
       "      <td>Max</td>\n",
       "    </tr>\n",
       "  </tbody>\n",
       "</table>\n",
       "</div>"
      ],
      "text/plain": [
       "  Customers\n",
       "1     Henry\n",
       "3       Max"
      ]
     },
     "execution_count": 52,
     "metadata": {},
     "output_type": "execute_result"
    }
   ],
   "source": [
    "left_join = pd.merge(customers[['id','name']], orders[['customerId']], left_on=['id'], right_on=['customerId'], how='left')\n",
    "data = left_join[left_join['customerId'].isnull()][['name']]\n",
    "data.rename(\n",
    "    columns={\"name\": \"Customers\"},\n",
    "    inplace=True\n",
    ")\n",
    "\n",
    "return data"
   ]
  },
  {
   "cell_type": "code",
   "execution_count": null,
   "metadata": {},
   "outputs": [],
   "source": [
    "\n"
   ]
  },
  {
   "cell_type": "code",
   "execution_count": null,
   "metadata": {},
   "outputs": [],
   "source": [
    "# 4"
   ]
  },
  {
   "cell_type": "code",
   "execution_count": 60,
   "metadata": {},
   "outputs": [
    {
     "name": "stdout",
     "output_type": "stream",
     "text": [
      "Employee DataFrame:\n",
      "   id   name  salary  departmentId\n",
      "0   1    Joe   70000             1\n",
      "1   2    Jim   90000             1\n",
      "2   3  Henry   80000             2\n",
      "3   4    Sam   60000             2\n",
      "4   5    Max   90000             1\n",
      "\n",
      "Department DataFrame:\n",
      "   id   name\n",
      "0   1     IT\n",
      "1   2  Sales\n"
     ]
    }
   ],
   "source": [
    "import pandas as pd\n",
    "\n",
    "# Creating the dataframe for the Employee table\n",
    "employee_data = {\n",
    "    \"id\": [1, 2, 3, 4, 5],\n",
    "    \"name\": [\"Joe\", \"Jim\", \"Henry\", \"Sam\", \"Max\"],\n",
    "    \"salary\": [70000, 90000, 80000, 60000, 90000],\n",
    "    \"departmentId\": [1, 1, 2, 2, 1]\n",
    "}\n",
    "employee = pd.DataFrame(employee_data)\n",
    "\n",
    "# Creating the dataframe for the Department table\n",
    "department_data = {\n",
    "    \"id\": [1, 2],\n",
    "    \"name\": [\"IT\", \"Sales\"]\n",
    "}\n",
    "department = pd.DataFrame(department_data)\n",
    "\n",
    "# Displaying the dataframes\n",
    "print(\"Employee DataFrame:\")\n",
    "print(employee)\n",
    "print(\"\\nDepartment DataFrame:\")\n",
    "print(department)\n"
   ]
  },
  {
   "cell_type": "code",
   "execution_count": 59,
   "metadata": {},
   "outputs": [
    {
     "data": {
      "text/html": [
       "<div>\n",
       "<style scoped>\n",
       "    .dataframe tbody tr th:only-of-type {\n",
       "        vertical-align: middle;\n",
       "    }\n",
       "\n",
       "    .dataframe tbody tr th {\n",
       "        vertical-align: top;\n",
       "    }\n",
       "\n",
       "    .dataframe thead th {\n",
       "        text-align: right;\n",
       "    }\n",
       "</style>\n",
       "<table border=\"1\" class=\"dataframe\">\n",
       "  <thead>\n",
       "    <tr style=\"text-align: right;\">\n",
       "      <th></th>\n",
       "      <th>id</th>\n",
       "      <th>name</th>\n",
       "    </tr>\n",
       "  </thead>\n",
       "  <tbody>\n",
       "    <tr>\n",
       "      <th>0</th>\n",
       "      <td>1</td>\n",
       "      <td>IT</td>\n",
       "    </tr>\n",
       "    <tr>\n",
       "      <th>1</th>\n",
       "      <td>2</td>\n",
       "      <td>Sales</td>\n",
       "    </tr>\n",
       "  </tbody>\n",
       "</table>\n",
       "</div>"
      ],
      "text/plain": [
       "   id   name\n",
       "0   1     IT\n",
       "1   2  Sales"
      ]
     },
     "execution_count": 59,
     "metadata": {},
     "output_type": "execute_result"
    }
   ],
   "source": [
    "department "
   ]
  },
  {
   "cell_type": "code",
   "execution_count": 76,
   "metadata": {},
   "outputs": [
    {
     "data": {
      "text/html": [
       "<div>\n",
       "<style scoped>\n",
       "    .dataframe tbody tr th:only-of-type {\n",
       "        vertical-align: middle;\n",
       "    }\n",
       "\n",
       "    .dataframe tbody tr th {\n",
       "        vertical-align: top;\n",
       "    }\n",
       "\n",
       "    .dataframe thead th {\n",
       "        text-align: right;\n",
       "    }\n",
       "</style>\n",
       "<table border=\"1\" class=\"dataframe\">\n",
       "  <thead>\n",
       "    <tr style=\"text-align: right;\">\n",
       "      <th></th>\n",
       "      <th>Department</th>\n",
       "      <th>Employee</th>\n",
       "      <th>Salary</th>\n",
       "    </tr>\n",
       "  </thead>\n",
       "  <tbody>\n",
       "    <tr>\n",
       "      <th>1</th>\n",
       "      <td>IT</td>\n",
       "      <td>Jim</td>\n",
       "      <td>90000</td>\n",
       "    </tr>\n",
       "    <tr>\n",
       "      <th>2</th>\n",
       "      <td>Sales</td>\n",
       "      <td>Henry</td>\n",
       "      <td>80000</td>\n",
       "    </tr>\n",
       "    <tr>\n",
       "      <th>4</th>\n",
       "      <td>IT</td>\n",
       "      <td>Max</td>\n",
       "      <td>90000</td>\n",
       "    </tr>\n",
       "  </tbody>\n",
       "</table>\n",
       "</div>"
      ],
      "text/plain": [
       "  Department Employee  Salary\n",
       "1         IT      Jim   90000\n",
       "2      Sales    Henry   80000\n",
       "4         IT      Max   90000"
      ]
     },
     "execution_count": 76,
     "metadata": {},
     "output_type": "execute_result"
    }
   ],
   "source": [
    "#Write a solution to find employees who have the highest salary in each of the departments.\n",
    "#employee.rename(columns={\"id\": \"eid\",\"name\":\"e_name\"},inplace=True)\n",
    "\n",
    "data = pd.merge(employee[['id','name','salary','departmentId']], department [['id','name']], left_on=['departmentId'], right_on=['id'], how='left')\n",
    "data.drop(columns=['id_y'], inplace=True)\n",
    "data.rename(columns={\"id_x\": \"id\",\"name_x\":\"Employee\",\"name_y\":\"Department\",\"salary\":\"Salary\"},inplace=True)\n",
    "data['rank']=data.groupby('Department')[['Salary']].rank(method='dense', ascending=False).astype(int)\n",
    "data[data['rank']==1][['Department','Employee','Salary']]"
   ]
  },
  {
   "cell_type": "code",
   "execution_count": null,
   "metadata": {},
   "outputs": [],
   "source": []
  },
  {
   "cell_type": "markdown",
   "metadata": {},
   "source": []
  }
 ],
 "metadata": {
  "kernelspec": {
   "display_name": "Python 3",
   "language": "python",
   "name": "python3"
  },
  "language_info": {
   "codemirror_mode": {
    "name": "ipython",
    "version": 3
   },
   "file_extension": ".py",
   "mimetype": "text/x-python",
   "name": "python",
   "nbconvert_exporter": "python",
   "pygments_lexer": "ipython3",
   "version": "3.9.0"
  }
 },
 "nbformat": 4,
 "nbformat_minor": 2
}
