{
 "cells": [
  {
   "cell_type": "code",
   "execution_count": 1,
   "metadata": {},
   "outputs": [],
   "source": [
    "import pandas as pd"
   ]
  },
  {
   "cell_type": "code",
   "execution_count": 3,
   "metadata": {},
   "outputs": [
    {
     "name": "stdout",
     "output_type": "stream",
     "text": [
      "1\n",
      "2\n",
      "3\n",
      "4\n",
      "5\n",
      "factorial is 120\n"
     ]
    }
   ],
   "source": [
    "#  factorial\n",
    "\n",
    "fact = 5\n",
    "a=1\n",
    "for i in range(1,fact+1):\n",
    "    a = a*i\n",
    "    print(i)\n",
    "print(f\"factorial is {a}\")"
   ]
  },
  {
   "cell_type": "code",
   "execution_count": 6,
   "metadata": {},
   "outputs": [
    {
     "name": "stdout",
     "output_type": "stream",
     "text": [
      "a\n",
      "a\n",
      "2\n"
     ]
    }
   ],
   "source": [
    "# count the vowel\n",
    "\n",
    "word = input(\"Enter and word to check count of vowel\")\n",
    "vowel = ['a','e','i','o','u']\n",
    "sum = 0\n",
    "for i in word:\n",
    "    if i in vowel:\n",
    "        print(i)\n",
    "        sum = sum + 1\n",
    "\n",
    "\n",
    "print(sum)"
   ]
  },
  {
   "cell_type": "code",
   "execution_count": 9,
   "metadata": {},
   "outputs": [
    {
     "name": "stdout",
     "output_type": "stream",
     "text": [
      " a is equal  to a and the count is equal to 1\n",
      " a is equal  to a and the count is equal to 2\n",
      " a is equal  to a and the count is equal to 3\n",
      " a is equal  to a and the count is equal to 4\n",
      "4\n"
     ]
    }
   ],
   "source": [
    "# occurance of any character\n",
    "\n",
    "word = input(\"Enter and word to check count of vowel : \")\n",
    "letter = input(\"Enter a letter for search the occurance count : \")\n",
    "sum = 0\n",
    "for i in word:\n",
    "    if i == letter:\n",
    "        sum += 1\n",
    "        print(f\" {i} is equal  to {letter} and the count is equal to {sum}\")\n",
    "\n",
    "print(sum)\n"
   ]
  },
  {
   "cell_type": "code",
   "execution_count": 20,
   "metadata": {},
   "outputs": [
    {
     "name": "stdout",
     "output_type": "stream",
     "text": [
      "0,1,1 2 "
     ]
    }
   ],
   "source": [
    "# Fibonacci series\n",
    "\n",
    "#8\n",
    "#0 ,1,1,2,3,5,8,13,21\n",
    "\n",
    "\n",
    "USER_INPUT =  int(input(\" ENTER THE NO. FOR WHICH COUNT U WANT A FIBONACCI SERIES : \"))\n",
    "first_c = 0\n",
    "second_c =1\n",
    "print(first_c,end = ',')\n",
    "print(second_c,end = ',')\n",
    "for i in range(3,USER_INPUT+1):\n",
    "    next_c =  first_c + second_c\n",
    "    first_c = second_c\n",
    "    second_c = next_c\n",
    "    print(next_c,end=',')\n",
    "\n",
    "\n"
   ]
  },
  {
   "cell_type": "code",
   "execution_count": 21,
   "metadata": {},
   "outputs": [
    {
     "name": "stdout",
     "output_type": "stream",
     "text": [
      "PYTHON\n",
      "<class 'str'>\n"
     ]
    }
   ],
   "source": [
    "lst = [\"P\", \"Y\", \"T\", \"H\", \"O\", \"N\"]\n",
    "string = ''.join(lst)\n",
    "\n",
    "print(string)\n",
    "#print(type(string))\n"
   ]
  },
  {
   "cell_type": "code",
   "execution_count": 25,
   "metadata": {},
   "outputs": [
    {
     "ename": "NameError",
     "evalue": "name 'count' is not defined",
     "output_type": "error",
     "traceback": [
      "\u001b[1;31m---------------------------------------------------------------------------\u001b[0m",
      "\u001b[1;31mNameError\u001b[0m                                 Traceback (most recent call last)",
      "Cell \u001b[1;32mIn[25], line 2\u001b[0m\n\u001b[0;32m      1\u001b[0m lst1 \u001b[38;5;241m=\u001b[39m [\u001b[38;5;241m1\u001b[39m, \u001b[38;5;241m2\u001b[39m, \u001b[38;5;241m3\u001b[39m]\n\u001b[1;32m----> 2\u001b[0m \u001b[43mcount\u001b[49m(lst)\n",
      "\u001b[1;31mNameError\u001b[0m: name 'count' is not defined"
     ]
    }
   ],
   "source": [
    "lst1 = [1, 2, 3]\n"
   ]
  },
  {
   "cell_type": "code",
   "execution_count": 31,
   "metadata": {},
   "outputs": [
    {
     "name": "stdout",
     "output_type": "stream",
     "text": [
      "[5, 7, 9]\n"
     ]
    }
   ],
   "source": [
    "#  summing 2 list\n",
    "lst1 = [1, 2, 3]\n",
    "lst2 = [4, 5, 6] \n",
    "result = []\n",
    "for i in range(0,len(lst1)):\n",
    "    result.append(lst1[i]+lst2[i])\n",
    "print(result)\n",
    "\n",
    "\n",
    "\n"
   ]
  },
  {
   "cell_type": "code",
   "execution_count": 32,
   "metadata": {},
   "outputs": [
    {
     "name": "stdout",
     "output_type": "stream",
     "text": [
      "1\n",
      "8\n",
      "2\n"
     ]
    }
   ],
   "source": [
    "# counting digits, letter and spaces in a string\n",
    "\n",
    "\n",
    "# Importing Regular Expressions Library\n",
    "import re\n",
    "\n",
    "name = 'Python is 1'\n",
    "\n",
    "digitCount = re.sub(\"[^0-9]\", \"\", name)\n",
    "letterCount = re.sub(\"[^a-zA-Z]\", \"\", name)\n",
    "spaceCount = re.findall(\"[ \\n]\", name)\n",
    "\n",
    "print(len(digitCount))\n",
    "print(len(letterCount))\n",
    "print(len(spaceCount))\n",
    "    \n"
   ]
  },
  {
   "cell_type": "code",
   "execution_count": 33,
   "metadata": {},
   "outputs": [
    {
     "name": "stdout",
     "output_type": "stream",
     "text": [
      "Return type: <class 'enumerate'>\n",
      "[(0, 'eat'), (1, 'sleep'), (2, 'repeat')]\n",
      "[(2, 'g'), (3, 'e'), (4, 'e'), (5, 'k')]\n"
     ]
    }
   ],
   "source": [
    "\n",
    "\n",
    "l1 = [\"eat\", \"sleep\", \"repeat\"]\n",
    "s1 = \"geek\"\n",
    " \n",
    "# creating enumerate objects\n",
    "obj1 = enumerate(l1)\n",
    "obj2 = enumerate(s1)\n",
    " \n",
    "print (\"Return type:\", type(obj1))\n",
    "print (list(enumerate(l1)))\n",
    " \n",
    "# changing start index to 2 from 0\n",
    "print (list(enumerate(s1, 2)))"
   ]
  },
  {
   "cell_type": "code",
   "execution_count": 36,
   "metadata": {},
   "outputs": [
    {
     "name": "stdout",
     "output_type": "stream",
     "text": [
      "(0, 'eat')\n",
      "(1, 'sleep')\n",
      "(2, 'repeat')\n",
      "(3, 'Ratan')\n",
      "0 eat\n",
      "1 sleep\n",
      "2 repeat\n",
      "3 Ratan\n",
      "0\n",
      "eat\n",
      "1\n",
      "sleep\n",
      "2\n",
      "repeat\n",
      "3\n",
      "Ratan\n"
     ]
    }
   ],
   "source": [
    "l1 = [\"eat\", \"sleep\", \"repeat\",\"Ratan\"]\n",
    "\n",
    "# printing the tuples in object directly\n",
    "for ele in enumerate(l1):\n",
    "\tprint (ele)\n",
    "\n",
    "# changing index and printing separately\n",
    "for count, ele in enumerate(l1):\n",
    "\tprint (count, ele)\n",
    "\n",
    "# getting desired output from tuple\n",
    "for count, ele in enumerate(l1):\n",
    "\tprint(count)\n",
    "\tprint(ele)\n"
   ]
  },
  {
   "cell_type": "code",
   "execution_count": null,
   "metadata": {},
   "outputs": [],
   "source": []
  },
  {
   "cell_type": "code",
   "execution_count": 38,
   "metadata": {},
   "outputs": [
    {
     "name": "stdout",
     "output_type": "stream",
     "text": [
      "Welcome Msg Not Sent Data_01-03-24.xlsx\n",
      "Welcome Msg Not Sent Data_03-03-24.xlsx\n",
      "Welcome Msg Not Sent Data_04-03-24.xlsx\n",
      "Welcome Msg Not Sent Data_05-03-24.xlsx\n",
      "Welcome Msg Not Sent Data_06-03-24.xlsx\n",
      "Welcome Msg Not Sent Data_10-03-24.xlsx\n",
      "Welcome Msg Not Sent Data_11-03-24.xlsx\n",
      "Welcome Msg Not Sent Data_12-03-24.xlsx\n",
      "Welcome Msg Not Sent Data_13-03-24.xlsx\n",
      "Welcome Msg Not Sent Data_15-03-24.xlsx\n",
      "Welcome Msg Not Sent Data_17-03-24.xlsx\n",
      "Welcome Msg Not Sent Data_18-03-24.xlsx\n",
      "Welcome Msg Not Sent Data_19-03-24.xlsx\n",
      "Welcome Msg Not Sent Data_20-03-24.xlsx\n",
      "Welcome Msg Not Sent Data_21-03-24.xlsx\n",
      "Welcome Msg Not Sent Data_27-03-24.xlsx\n",
      "Welcome Msg Not Sent Data_28-03-24.xlsx\n",
      "Welcome Msg Not Sent Data_31-03-24.xlsx\n"
     ]
    }
   ],
   "source": [
    "# Read the data from a file\n",
    "\n",
    "import os\n",
    "import shutil\n",
    "\n",
    "# Set the path to the folder containing MSG files\n",
    "folder_path = r\"C:\\Users\\Ratan Kumar Jha\\Desktop\\welcome msg\\WELCOME DATA EXTRACTED\\March\"\n",
    "# -------------------------------------------------------------------------------------------------\n",
    "for filename in os.listdir(folder_path):\n",
    "    print(filename)"
   ]
  },
  {
   "cell_type": "code",
   "execution_count": null,
   "metadata": {},
   "outputs": [],
   "source": []
  }
 ],
 "metadata": {
  "kernelspec": {
   "display_name": "Python 3",
   "language": "python",
   "name": "python3"
  },
  "language_info": {
   "codemirror_mode": {
    "name": "ipython",
    "version": 3
   },
   "file_extension": ".py",
   "mimetype": "text/x-python",
   "name": "python",
   "nbconvert_exporter": "python",
   "pygments_lexer": "ipython3",
   "version": "3.9.0"
  }
 },
 "nbformat": 4,
 "nbformat_minor": 2
}
