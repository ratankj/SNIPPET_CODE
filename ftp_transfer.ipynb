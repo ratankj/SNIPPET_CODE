{
 "cells": [
  {
   "cell_type": "code",
   "execution_count": null,
   "metadata": {},
   "outputs": [],
   "source": []
  },
  {
   "cell_type": "code",
   "execution_count": 6,
   "metadata": {},
   "outputs": [
    {
     "name": "stdout",
     "output_type": "stream",
     "text": [
      "Connected to FTP server: 10.10.253.10\n",
      "File C:\\Users\\Ratan Kumar Jha\\Desktop\\MAIL_AUTO_DATA_DOWNLOAD\\ASSET_INITIATION_INVENTORY_NB.csv uploaded to /EDF Code Automation/ASSET_INITIATION_INVENTORY_NB.csv\n",
      "FTP connection closed.\n"
     ]
    }
   ],
   "source": [
    "import ftplib\n",
    "\n",
    "def upload_file_to_ftp(ftp_server, ftp_user, ftp_password, local_file_path, remote_file_path):\n",
    "    try:\n",
    "        # Connect to the FTP server\n",
    "        ftp = ftplib.FTP(ftp_server)\n",
    "        ftp.login(user=ftp_user, passwd=ftp_password)\n",
    "        print(f\"Connected to FTP server: {ftp_server}\")\n",
    "        \n",
    "        # Open the local file\n",
    "        with open(local_file_path, 'rb') as file:\n",
    "            # Use the storbinary method to upload the file\n",
    "            ftp.storbinary(f'STOR {remote_file_path}', file)\n",
    "            print(f\"File {local_file_path} uploaded to {remote_file_path}\")\n",
    "        \n",
    "        # Close the FTP connection\n",
    "        ftp.quit()\n",
    "        print(\"FTP connection closed.\")\n",
    "    \n",
    "    except ftplib.all_errors as e:\n",
    "        print(f\"FTP error: {e}\")\n",
    "\n",
    "# Example usage\n",
    "ftp_server = '10.10.253.10'  # Replace with your FTP server address\n",
    "ftp_user = 'edf.ratan.jha'      # Replace with your FTP username\n",
    "ftp_password = '*******************'  # Replace with your FTP password\n",
    "local_file_path = r'C:\\Users\\Ratan Kumar Jha\\Desktop\\MAIL_AUTO_DATA_DOWNLOAD\\ASSET_INITIATION_INVENTORY_NB.csv'  # Replace with the path to your local CSV file\n",
    "remote_file_path = '/EDF Code Automation/ASSET_INITIATION_INVENTORY_NB.csv'  # Replace with the desired remote path\n",
    "\n",
    "upload_file_to_ftp(ftp_server, ftp_user, ftp_password, local_file_path, remote_file_path)\n"
   ]
  },
  {
   "cell_type": "code",
   "execution_count": 7,
   "metadata": {},
   "outputs": [
    {
     "name": "stdout",
     "output_type": "stream",
     "text": [
      "Connected to FTP server: 10.10.253.10\n",
      "Deleted existing file: /EDF Code Automation/ASSET_INITIATION_INVENTORY_NB.csv\n",
      "File C:\\Users\\Ratan Kumar Jha\\Desktop\\MAIL_AUTO_DATA_DOWNLOAD\\ASSET_INITIATION_INVENTORY_NB.csv uploaded to /EDF Code Automation/ASSET_INITIATION_INVENTORY_NB.csv\n",
      "FTP connection closed.\n"
     ]
    }
   ],
   "source": [
    "import ftplib\n",
    "\n",
    "def delete_and_upload_file_to_ftp(ftp_server, ftp_user, ftp_password, local_file_path, remote_file_path):\n",
    "    try:\n",
    "        # Connect to the FTP server\n",
    "        ftp = ftplib.FTP(ftp_server)\n",
    "        ftp.login(user=ftp_user, passwd=ftp_password)\n",
    "        print(f\"Connected to FTP server: {ftp_server}\")\n",
    "        \n",
    "        # Try to delete the existing remote file\n",
    "        try:\n",
    "            ftp.delete(remote_file_path)\n",
    "            print(f\"Deleted existing file: {remote_file_path}\")\n",
    "        except ftplib.error_perm as e:\n",
    "            # If the file does not exist, catch the exception and print a message\n",
    "            print(f\"File {remote_file_path} not found on FTP server. Proceeding with upload.\")\n",
    "        \n",
    "        # Open the local file\n",
    "        with open(local_file_path, 'rb') as file:\n",
    "            # Use the storbinary method to upload the file\n",
    "            ftp.storbinary(f'STOR {remote_file_path}', file)\n",
    "            print(f\"File {local_file_path} uploaded to {remote_file_path}\")\n",
    "        \n",
    "        # Close the FTP connection\n",
    "        ftp.quit()\n",
    "        print(\"FTP connection closed.\")\n",
    "    \n",
    "    except ftplib.all_errors as e:\n",
    "        print(f\"FTP error: {e}\")\n",
    "\n",
    "\n",
    "# Example usage\n",
    "ftp_server = '10.10.253.10'  # Replace with your FTP server address\n",
    "ftp_user = 'edf.ratan.jha'      # Replace with your FTP username\n",
    "ftp_password = '**************'  # Replace with your FTP password\n",
    "local_file_path = r'C:\\Users\\Ratan Kumar Jha\\Desktop\\MAIL_AUTO_DATA_DOWNLOAD\\ASSET_INITIATION_INVENTORY_NB.csv'  # Replace with the path to your local CSV file\n",
    "remote_file_path = '/EDF Code Automation/ASSET_INITIATION_INVENTORY_NB.csv'  # Replace with the desired remote path\n",
    "\n",
    "delete_and_upload_file_to_ftp(ftp_server, ftp_user, ftp_password, local_file_path, remote_file_path)\n"
   ]
  }
 ],
 "metadata": {
  "kernelspec": {
   "display_name": "Python 3",
   "language": "python",
   "name": "python3"
  },
  "language_info": {
   "codemirror_mode": {
    "name": "ipython",
    "version": 3
   },
   "file_extension": ".py",
   "mimetype": "text/x-python",
   "name": "python",
   "nbconvert_exporter": "python",
   "pygments_lexer": "ipython3",
   "version": "3.9.0"
  }
 },
 "nbformat": 4,
 "nbformat_minor": 2
}
